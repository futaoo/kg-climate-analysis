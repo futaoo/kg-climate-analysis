{
  "cells": [
    {
      "cell_type": "markdown",
      "metadata": {
        "id": "view-in-github",
        "colab_type": "text"
      },
      "source": [
        "<a href=\"https://colab.research.google.com/github/futaoo/kg-climate-analysis/blob/main/kg_rainfall_detection.ipynb\" target=\"_parent\"><img src=\"https://colab.research.google.com/assets/colab-badge.svg\" alt=\"Open In Colab\"/></a>"
      ]
    },
    {
      "cell_type": "code",
      "execution_count": null,
      "metadata": {
        "colab": {
          "base_uri": "https://localhost:8080/"
        },
        "id": "9JLBcYsYcgUK",
        "outputId": "740a42fc-6048-4a10-c679-ec6760cf1eca"
      },
      "outputs": [
        {
          "name": "stdout",
          "output_type": "stream",
          "text": [
            "Mounted at /content/drive\n"
          ]
        }
      ],
      "source": [
        "import os, sys\n",
        "from google.colab import drive\n",
        "drive.mount('/content/drive')\n",
        "os.chdir('/content/drive/My Drive/Colab Notebooks/KGExtension-code/')"
      ]
    },
    {
      "cell_type": "markdown",
      "metadata": {
        "id": "sBDTd4aWdQtl"
      },
      "source": [
        "##Pip Packages"
      ]
    },
    {
      "cell_type": "code",
      "execution_count": null,
      "metadata": {
        "colab": {
          "base_uri": "https://localhost:8080/"
        },
        "id": "fHs8ngTeQFwJ",
        "outputId": "35aca862-2d61-47d3-fce7-a93e913c831e"
      },
      "outputs": [
        {
          "name": "stdout",
          "output_type": "stream",
          "text": [
            "Collecting kgextension\n",
            "  Downloading kgextension-0.1.1-py3-none-any.whl (62 kB)\n",
            "\u001b[K     |████████████████████████████████| 62 kB 1.1 MB/s \n",
            "\u001b[?25hCollecting pyspotlight\n",
            "  Downloading pyspotlight-0.7.2-py2.py3-none-any.whl (15 kB)\n",
            "Requirement already satisfied: requests in /usr/local/lib/python3.7/dist-packages (from kgextension) (2.23.0)\n",
            "Requirement already satisfied: networkx in /usr/local/lib/python3.7/dist-packages (from kgextension) (2.6.3)\n",
            "Collecting deckar01-ratelimit\n",
            "  Downloading deckar01_ratelimit-3.0.1-py3-none-any.whl (6.8 kB)\n",
            "Requirement already satisfied: scikit-learn in /usr/local/lib/python3.7/dist-packages (from kgextension) (0.22.2.post1)\n",
            "Collecting SPARQLWrapper\n",
            "  Downloading SPARQLWrapper-1.8.5-py3-none-any.whl (26 kB)\n",
            "Collecting fuzzywuzzy\n",
            "  Downloading fuzzywuzzy-0.18.0-py2.py3-none-any.whl (18 kB)\n",
            "Requirement already satisfied: pandas>=1.1.0 in /usr/local/lib/python3.7/dist-packages (from kgextension) (1.1.5)\n",
            "Requirement already satisfied: numpy in /usr/local/lib/python3.7/dist-packages (from kgextension) (1.19.5)\n",
            "Requirement already satisfied: tqdm in /usr/local/lib/python3.7/dist-packages (from kgextension) (4.62.2)\n",
            "Requirement already satisfied: lxml in /usr/local/lib/python3.7/dist-packages (from kgextension) (4.2.6)\n",
            "Collecting strsimpy\n",
            "  Downloading strsimpy-0.2.1-py3-none-any.whl (45 kB)\n",
            "\u001b[K     |████████████████████████████████| 45 kB 3.6 MB/s \n",
            "\u001b[?25hCollecting validators\n",
            "  Downloading validators-0.18.2-py3-none-any.whl (19 kB)\n",
            "Collecting rdflib\n",
            "  Downloading rdflib-6.0.1-py3-none-any.whl (379 kB)\n",
            "\u001b[K     |████████████████████████████████| 379 kB 51.0 MB/s \n",
            "\u001b[?25hCollecting info-gain\n",
            "  Downloading info_gain-1.0.1-py3-none-any.whl (3.3 kB)\n",
            "Requirement already satisfied: python-dateutil>=2.7.3 in /usr/local/lib/python3.7/dist-packages (from pandas>=1.1.0->kgextension) (2.8.2)\n",
            "Requirement already satisfied: pytz>=2017.2 in /usr/local/lib/python3.7/dist-packages (from pandas>=1.1.0->kgextension) (2018.9)\n",
            "Requirement already satisfied: six>=1.5 in /usr/local/lib/python3.7/dist-packages (from python-dateutil>=2.7.3->pandas>=1.1.0->kgextension) (1.15.0)\n",
            "Requirement already satisfied: idna<3,>=2.5 in /usr/local/lib/python3.7/dist-packages (from requests->kgextension) (2.10)\n",
            "Requirement already satisfied: urllib3!=1.25.0,!=1.25.1,<1.26,>=1.21.1 in /usr/local/lib/python3.7/dist-packages (from requests->kgextension) (1.24.3)\n",
            "Requirement already satisfied: chardet<4,>=3.0.2 in /usr/local/lib/python3.7/dist-packages (from requests->kgextension) (3.0.4)\n",
            "Requirement already satisfied: certifi>=2017.4.17 in /usr/local/lib/python3.7/dist-packages (from requests->kgextension) (2021.5.30)\n",
            "Collecting isodate\n",
            "  Downloading isodate-0.6.0-py2.py3-none-any.whl (45 kB)\n",
            "\u001b[K     |████████████████████████████████| 45 kB 3.3 MB/s \n",
            "\u001b[?25hRequirement already satisfied: setuptools in /usr/local/lib/python3.7/dist-packages (from rdflib->kgextension) (57.4.0)\n",
            "Requirement already satisfied: pyparsing in /usr/local/lib/python3.7/dist-packages (from rdflib->kgextension) (2.4.7)\n",
            "Requirement already satisfied: joblib>=0.11 in /usr/local/lib/python3.7/dist-packages (from scikit-learn->kgextension) (1.0.1)\n",
            "Requirement already satisfied: scipy>=0.17.0 in /usr/local/lib/python3.7/dist-packages (from scikit-learn->kgextension) (1.4.1)\n",
            "Requirement already satisfied: decorator>=3.4.0 in /usr/local/lib/python3.7/dist-packages (from validators->kgextension) (4.4.2)\n",
            "Installing collected packages: isodate, rdflib, validators, strsimpy, SPARQLWrapper, pyspotlight, info-gain, fuzzywuzzy, deckar01-ratelimit, kgextension\n",
            "Successfully installed SPARQLWrapper-1.8.5 deckar01-ratelimit-3.0.1 fuzzywuzzy-0.18.0 info-gain-1.0.1 isodate-0.6.0 kgextension-0.1.1 pyspotlight-0.7.2 rdflib-6.0.1 strsimpy-0.2.1 validators-0.18.2\n"
          ]
        }
      ],
      "source": [
        "!pip install kgextension"
      ]
    },
    {
      "cell_type": "markdown",
      "metadata": {
        "id": "yqJ3MqTCZKTx"
      },
      "source": [
        "##Scripts"
      ]
    },
    {
      "cell_type": "markdown",
      "metadata": {
        "id": "7V8TL2hjZp7J"
      },
      "source": [
        "###Imports"
      ]
    },
    {
      "cell_type": "code",
      "execution_count": null,
      "metadata": {
        "id": "hwqImIdYdIa3"
      },
      "outputs": [],
      "source": [
        "import kgextension\n",
        "import pandas as pd\n",
        "from kgextension.sparql_helper import RemoteEndpoint\n",
        "from kgextension.sparql_helper import endpoint_wrapper\n",
        "from kgextension.linking import label_linker\n",
        "from kgextension.generator import data_properties_generator\n",
        "from kgextension.generator import unqualified_relation_generator\n",
        "from kgextension.generator import specific_relation_generator\n",
        "from kgextension.generator import custom_sparql_generator\n",
        "from kgextension.linking import dbpedia_spotlight_linker\n",
        "from kgextension.link_exploration import link_explorer\n",
        "from kgextension.uri_helper import uri_querier\n",
        "from kgextension.endpoints import DBpedia\n",
        "\n",
        "\n",
        "from pandas import DataFrame\n",
        "from pandas import concat\n",
        "\n",
        "\n",
        "from sklearn.model_selection import train_test_split\n",
        "from sklearn import preprocessing\n",
        "import numpy as np\n",
        "\n",
        "import matplotlib.pyplot as plt\n",
        "from sklearn.ensemble import RandomForestClassifier\n",
        "from sklearn.metrics import classification_report, confusion_matrix, ConfusionMatrixDisplay\n",
        "\n",
        "from sklearn.svm import SVC\n",
        "\n",
        "from sklearn.neural_network import MLPClassifier\n",
        "\n",
        "from sklearn.neighbors import KNeighborsClassifier"
      ]
    },
    {
      "cell_type": "markdown",
      "metadata": {
        "id": "aRDNdmKwB6ma"
      },
      "source": [
        "###Functions"
      ]
    },
    {
      "cell_type": "code",
      "execution_count": null,
      "metadata": {
        "id": "vGQORdmuB974"
      },
      "outputs": [],
      "source": [
        "def series_to_supervised(data, n_in=1, n_out=1, dropnan=True):\n",
        "\t\"\"\"\n",
        "\tFrame a time series as a supervised learning dataset.\n",
        "\tArguments:\n",
        "\t\tdata: Sequence of observations as a list or NumPy array.\n",
        "\t\tn_in: Number of lag observations as input (X).\n",
        "\t\tn_out: Number of observations as output (y).\n",
        "\t\tdropnan: Boolean whether or not to drop rows with NaN values.\n",
        "\tReturns:\n",
        "\t\tPandas DataFrame of series framed for supervised learning.\n",
        "\t\"\"\"\n",
        "\tn_vars = 1 if type(data) is list else data.shape[1]\n",
        "\tdf = DataFrame(data)\n",
        "\tcols, names = list(), list()\n",
        "\t# input sequence (t-n, ... t-1)\n",
        "\tfor i in range(n_in, 0, -1):\n",
        "\t\tcols.append(df.shift(i))\n",
        "\t\tnames += [('var%d(t-%d)' % (j+1, i)) for j in range(n_vars)]\n",
        "\t# forecast sequence (t, t+1, ... t+n)\n",
        "\tfor i in range(0, n_out):\n",
        "\t\tcols.append(df.shift(-i))\n",
        "\t\tif i == 0:\n",
        "\t\t\tnames += [('var%d(t)' % (j+1)) for j in range(n_vars)]\n",
        "\t\telse:\n",
        "\t\t\tnames += [('var%d(t+%d)' % (j+1, i)) for j in range(n_vars)]\n",
        "\t# put it all together\n",
        "\tagg = concat(cols, axis=1)\n",
        "\tagg.columns = names\n",
        "\t# drop rows with NaN values\n",
        "\tif dropnan:\n",
        "\t\tagg.dropna(inplace=True)\n",
        "\treturn agg\n",
        "\n",
        "\n",
        "def prcp_map(x):\n",
        "    value = 'yes' if x > 0 else 'no'\n",
        "    return value"
      ]
    },
    {
      "cell_type": "markdown",
      "metadata": {
        "id": "UNXC0K9NZwtx"
      },
      "source": [
        "###Prepare data using kgextension"
      ]
    },
    {
      "cell_type": "code",
      "execution_count": null,
      "metadata": {
        "id": "Or67Z6q9Ckxw"
      },
      "outputs": [],
      "source": [
        "climate_kg = RemoteEndpoint(url = \"http://jresearch.ucd.ie/kg/climate/sparql\", timeout=120, requests_per_min=100*60, retries=10, page_size=10000)"
      ]
    },
    {
      "cell_type": "code",
      "execution_count": null,
      "metadata": {
        "id": "1HyECIGJfbTQ"
      },
      "outputs": [],
      "source": [
        "query_obsv = 'PREFIX ca-property: <http://jresearch.ucd.ie/climate-kg/ca/property/> PREFIX sosa: <http://www.w3.org/ns/sosa/> PREFIX xsd: <http://www.w3.org/2001/XMLSchema#> SELECT ?obsv WHERE {?obsv ca-property:sourceStation <http://jresearch.ucd.ie/climate-kg/resource/station/GHCND:EI000003969>; sosa:resultTime ?date. FILTER ((?date>=\"2019-04-01\"^^xsd:date)&&(?date<=\"2021-04-01\"^^xsd:date))}'\n",
        "df_entities = endpoint_wrapper(endpoint=climate_kg, query=query_obsv)\n",
        "query_features= 'PREFIX ca-property: <http://jresearch.ucd.ie/climate-kg/ca/property/> PREFIX sosa: <http://www.w3.org/ns/sosa/> SELECT  ?station ?simpleresult  ?date ?datatype WHERE { *obsv* sosa:hasSimpleResult ?simpleresult; sosa:resultTime ?date; ca-property:sourceStation ?station; sosa:hasResult/ca-property:withDataType/ca-property:id ?datatype. }'\n",
        "df_custom_sparql = custom_sparql_generator(df_entities, \"obsv\", query_features, endpoint=climate_kg)\n",
        "df_custom_sparql"
      ]
    },
    {
      "cell_type": "code",
      "execution_count": null,
      "metadata": {
        "id": "0Nf0-zlitX-O"
      },
      "outputs": [],
      "source": [
        "# df_custom_sparql.to_csv('./datasets/climate-features-plus.csv')"
      ]
    },
    {
      "cell_type": "code",
      "execution_count": null,
      "metadata": {
        "colab": {
          "base_uri": "https://localhost:8080/",
          "height": 423
        },
        "id": "RUdrfAH5toND",
        "outputId": "513b762f-3d3d-4c23-8a9a-c03d3e12b5ff"
      },
      "outputs": [
        {
          "data": {
            "text/html": [
              "<div>\n",
              "<style scoped>\n",
              "    .dataframe tbody tr th:only-of-type {\n",
              "        vertical-align: middle;\n",
              "    }\n",
              "\n",
              "    .dataframe tbody tr th {\n",
              "        vertical-align: top;\n",
              "    }\n",
              "\n",
              "    .dataframe thead th {\n",
              "        text-align: right;\n",
              "    }\n",
              "</style>\n",
              "<table border=\"1\" class=\"dataframe\">\n",
              "  <thead>\n",
              "    <tr style=\"text-align: right;\">\n",
              "      <th></th>\n",
              "      <th>created_at</th>\n",
              "      <th>Humidity_%</th>\n",
              "      <th>PM2.5_ATM_ug/m3</th>\n",
              "      <th>Pressure_hpa</th>\n",
              "    </tr>\n",
              "  </thead>\n",
              "  <tbody>\n",
              "    <tr>\n",
              "      <th>0</th>\n",
              "      <td>2019-06-01</td>\n",
              "      <td>57.95</td>\n",
              "      <td>13.05</td>\n",
              "      <td>1013.97</td>\n",
              "    </tr>\n",
              "    <tr>\n",
              "      <th>1</th>\n",
              "      <td>2019-06-02</td>\n",
              "      <td>51.37</td>\n",
              "      <td>2.18</td>\n",
              "      <td>1001.23</td>\n",
              "    </tr>\n",
              "    <tr>\n",
              "      <th>2</th>\n",
              "      <td>2019-06-03</td>\n",
              "      <td>51.49</td>\n",
              "      <td>3.13</td>\n",
              "      <td>1006.51</td>\n",
              "    </tr>\n",
              "    <tr>\n",
              "      <th>3</th>\n",
              "      <td>2019-06-04</td>\n",
              "      <td>69.54</td>\n",
              "      <td>7.79</td>\n",
              "      <td>1001.58</td>\n",
              "    </tr>\n",
              "    <tr>\n",
              "      <th>4</th>\n",
              "      <td>2019-06-05</td>\n",
              "      <td>67.70</td>\n",
              "      <td>2.38</td>\n",
              "      <td>1001.83</td>\n",
              "    </tr>\n",
              "    <tr>\n",
              "      <th>...</th>\n",
              "      <td>...</td>\n",
              "      <td>...</td>\n",
              "      <td>...</td>\n",
              "      <td>...</td>\n",
              "    </tr>\n",
              "    <tr>\n",
              "      <th>362</th>\n",
              "      <td>2020-05-28</td>\n",
              "      <td>44.68</td>\n",
              "      <td>10.57</td>\n",
              "      <td>1029.93</td>\n",
              "    </tr>\n",
              "    <tr>\n",
              "      <th>363</th>\n",
              "      <td>2020-05-29</td>\n",
              "      <td>37.91</td>\n",
              "      <td>8.45</td>\n",
              "      <td>1023.37</td>\n",
              "    </tr>\n",
              "    <tr>\n",
              "      <th>364</th>\n",
              "      <td>2020-05-30</td>\n",
              "      <td>37.19</td>\n",
              "      <td>8.03</td>\n",
              "      <td>1020.37</td>\n",
              "    </tr>\n",
              "    <tr>\n",
              "      <th>365</th>\n",
              "      <td>2020-05-31</td>\n",
              "      <td>39.92</td>\n",
              "      <td>15.02</td>\n",
              "      <td>1020.93</td>\n",
              "    </tr>\n",
              "    <tr>\n",
              "      <th>366</th>\n",
              "      <td>2020-06-01</td>\n",
              "      <td>42.96</td>\n",
              "      <td>11.98</td>\n",
              "      <td>1023.08</td>\n",
              "    </tr>\n",
              "  </tbody>\n",
              "</table>\n",
              "<p>367 rows × 4 columns</p>\n",
              "</div>"
            ],
            "text/plain": [
              "     created_at  Humidity_%  PM2.5_ATM_ug/m3  Pressure_hpa\n",
              "0    2019-06-01       57.95            13.05       1013.97\n",
              "1    2019-06-02       51.37             2.18       1001.23\n",
              "2    2019-06-03       51.49             3.13       1006.51\n",
              "3    2019-06-04       69.54             7.79       1001.58\n",
              "4    2019-06-05       67.70             2.38       1001.83\n",
              "..          ...         ...              ...           ...\n",
              "362  2020-05-28       44.68            10.57       1029.93\n",
              "363  2020-05-29       37.91             8.45       1023.37\n",
              "364  2020-05-30       37.19             8.03       1020.37\n",
              "365  2020-05-31       39.92            15.02       1020.93\n",
              "366  2020-06-01       42.96            11.98       1023.08\n",
              "\n",
              "[367 rows x 4 columns]"
            ]
          },
          "execution_count": 5,
          "metadata": {},
          "output_type": "execute_result"
        }
      ],
      "source": [
        "df_air = pd.read_csv('./datasets/air-features-u.csv')\n",
        "df_climate = pd.read_csv('./datasets/climate-features.csv').pivot(index='date', columns='datatype', values='simpleresult').fillna(0)\n",
        "# df_climate\n",
        "df_air"
      ]
    },
    {
      "cell_type": "code",
      "execution_count": null,
      "metadata": {
        "colab": {
          "base_uri": "https://localhost:8080/",
          "height": 423
        },
        "id": "yR8n9yEyuOos",
        "outputId": "b79fac88-1c19-4241-8ca9-7d09389228e7"
      },
      "outputs": [
        {
          "data": {
            "text/html": [
              "<div>\n",
              "<style scoped>\n",
              "    .dataframe tbody tr th:only-of-type {\n",
              "        vertical-align: middle;\n",
              "    }\n",
              "\n",
              "    .dataframe tbody tr th {\n",
              "        vertical-align: top;\n",
              "    }\n",
              "\n",
              "    .dataframe thead th {\n",
              "        text-align: right;\n",
              "    }\n",
              "</style>\n",
              "<table border=\"1\" class=\"dataframe\">\n",
              "  <thead>\n",
              "    <tr style=\"text-align: right;\">\n",
              "      <th></th>\n",
              "      <th>created_at</th>\n",
              "      <th>Humidity_%</th>\n",
              "      <th>PM2.5_ATM_ug/m3</th>\n",
              "      <th>Pressure_hpa</th>\n",
              "      <th>PRCP</th>\n",
              "      <th>SNWD</th>\n",
              "      <th>TAVG</th>\n",
              "      <th>TMAX</th>\n",
              "      <th>TMIN</th>\n",
              "    </tr>\n",
              "  </thead>\n",
              "  <tbody>\n",
              "    <tr>\n",
              "      <th>0</th>\n",
              "      <td>2019-06-01</td>\n",
              "      <td>57.95</td>\n",
              "      <td>13.05</td>\n",
              "      <td>1013.97</td>\n",
              "      <td>1.2</td>\n",
              "      <td>0.0</td>\n",
              "      <td>13.3</td>\n",
              "      <td>20.0</td>\n",
              "      <td>7.5</td>\n",
              "    </tr>\n",
              "    <tr>\n",
              "      <th>1</th>\n",
              "      <td>2019-06-02</td>\n",
              "      <td>51.37</td>\n",
              "      <td>2.18</td>\n",
              "      <td>1001.23</td>\n",
              "      <td>0.0</td>\n",
              "      <td>0.0</td>\n",
              "      <td>14.9</td>\n",
              "      <td>19.3</td>\n",
              "      <td>13.6</td>\n",
              "    </tr>\n",
              "    <tr>\n",
              "      <th>2</th>\n",
              "      <td>2019-06-03</td>\n",
              "      <td>51.49</td>\n",
              "      <td>3.13</td>\n",
              "      <td>1006.51</td>\n",
              "      <td>9.3</td>\n",
              "      <td>0.0</td>\n",
              "      <td>11.5</td>\n",
              "      <td>17.2</td>\n",
              "      <td>8.6</td>\n",
              "    </tr>\n",
              "    <tr>\n",
              "      <th>3</th>\n",
              "      <td>2019-06-04</td>\n",
              "      <td>69.54</td>\n",
              "      <td>7.79</td>\n",
              "      <td>1001.58</td>\n",
              "      <td>19.7</td>\n",
              "      <td>0.0</td>\n",
              "      <td>10.4</td>\n",
              "      <td>12.4</td>\n",
              "      <td>7.9</td>\n",
              "    </tr>\n",
              "    <tr>\n",
              "      <th>4</th>\n",
              "      <td>2019-06-05</td>\n",
              "      <td>67.70</td>\n",
              "      <td>2.38</td>\n",
              "      <td>1001.83</td>\n",
              "      <td>0.3</td>\n",
              "      <td>0.0</td>\n",
              "      <td>9.9</td>\n",
              "      <td>12.6</td>\n",
              "      <td>8.8</td>\n",
              "    </tr>\n",
              "    <tr>\n",
              "      <th>...</th>\n",
              "      <td>...</td>\n",
              "      <td>...</td>\n",
              "      <td>...</td>\n",
              "      <td>...</td>\n",
              "      <td>...</td>\n",
              "      <td>...</td>\n",
              "      <td>...</td>\n",
              "      <td>...</td>\n",
              "      <td>...</td>\n",
              "    </tr>\n",
              "    <tr>\n",
              "      <th>362</th>\n",
              "      <td>2020-05-28</td>\n",
              "      <td>44.68</td>\n",
              "      <td>10.57</td>\n",
              "      <td>1029.93</td>\n",
              "      <td>0.0</td>\n",
              "      <td>0.0</td>\n",
              "      <td>15.3</td>\n",
              "      <td>23.3</td>\n",
              "      <td>10.1</td>\n",
              "    </tr>\n",
              "    <tr>\n",
              "      <th>363</th>\n",
              "      <td>2020-05-29</td>\n",
              "      <td>37.91</td>\n",
              "      <td>8.45</td>\n",
              "      <td>1023.37</td>\n",
              "      <td>0.0</td>\n",
              "      <td>0.0</td>\n",
              "      <td>15.8</td>\n",
              "      <td>23.5</td>\n",
              "      <td>11.3</td>\n",
              "    </tr>\n",
              "    <tr>\n",
              "      <th>364</th>\n",
              "      <td>2020-05-30</td>\n",
              "      <td>37.19</td>\n",
              "      <td>8.03</td>\n",
              "      <td>1020.37</td>\n",
              "      <td>0.0</td>\n",
              "      <td>0.0</td>\n",
              "      <td>14.9</td>\n",
              "      <td>22.0</td>\n",
              "      <td>9.2</td>\n",
              "    </tr>\n",
              "    <tr>\n",
              "      <th>365</th>\n",
              "      <td>2020-05-31</td>\n",
              "      <td>39.92</td>\n",
              "      <td>15.02</td>\n",
              "      <td>1020.93</td>\n",
              "      <td>0.0</td>\n",
              "      <td>0.0</td>\n",
              "      <td>14.6</td>\n",
              "      <td>21.5</td>\n",
              "      <td>9.0</td>\n",
              "    </tr>\n",
              "    <tr>\n",
              "      <th>366</th>\n",
              "      <td>2020-06-01</td>\n",
              "      <td>42.96</td>\n",
              "      <td>11.98</td>\n",
              "      <td>1023.08</td>\n",
              "      <td>0.0</td>\n",
              "      <td>0.0</td>\n",
              "      <td>14.4</td>\n",
              "      <td>21.1</td>\n",
              "      <td>9.3</td>\n",
              "    </tr>\n",
              "  </tbody>\n",
              "</table>\n",
              "<p>367 rows × 9 columns</p>\n",
              "</div>"
            ],
            "text/plain": [
              "     created_at  Humidity_%  PM2.5_ATM_ug/m3  ...  TAVG  TMAX  TMIN\n",
              "0    2019-06-01       57.95            13.05  ...  13.3  20.0   7.5\n",
              "1    2019-06-02       51.37             2.18  ...  14.9  19.3  13.6\n",
              "2    2019-06-03       51.49             3.13  ...  11.5  17.2   8.6\n",
              "3    2019-06-04       69.54             7.79  ...  10.4  12.4   7.9\n",
              "4    2019-06-05       67.70             2.38  ...   9.9  12.6   8.8\n",
              "..          ...         ...              ...  ...   ...   ...   ...\n",
              "362  2020-05-28       44.68            10.57  ...  15.3  23.3  10.1\n",
              "363  2020-05-29       37.91             8.45  ...  15.8  23.5  11.3\n",
              "364  2020-05-30       37.19             8.03  ...  14.9  22.0   9.2\n",
              "365  2020-05-31       39.92            15.02  ...  14.6  21.5   9.0\n",
              "366  2020-06-01       42.96            11.98  ...  14.4  21.1   9.3\n",
              "\n",
              "[367 rows x 9 columns]"
            ]
          },
          "execution_count": 6,
          "metadata": {},
          "output_type": "execute_result"
        }
      ],
      "source": [
        "df_merge = pd.merge(df_air, df_climate, left_on=\"created_at\", right_on=\"date\").sort_values(by=['created_at']).reset_index(drop=True)\n",
        "# df_merge = df_merge[['created_at', 'PM1.0_CF1_ug/m3', 'PM2.5_CF1_ug/m3', 'PM10.0_CF1_ug/m3','Humidity_%', 'PRCP','SNWD','TAVG','TMAX','TMIN']]\n",
        "df_merge"
      ]
    },
    {
      "cell_type": "code",
      "execution_count": null,
      "metadata": {
        "colab": {
          "base_uri": "https://localhost:8080/",
          "height": 423
        },
        "id": "jRXJqVS_zz0l",
        "outputId": "482f5075-639a-47fb-d8de-2f01226d6e0d"
      },
      "outputs": [
        {
          "data": {
            "text/html": [
              "<div>\n",
              "<style scoped>\n",
              "    .dataframe tbody tr th:only-of-type {\n",
              "        vertical-align: middle;\n",
              "    }\n",
              "\n",
              "    .dataframe tbody tr th {\n",
              "        vertical-align: top;\n",
              "    }\n",
              "\n",
              "    .dataframe thead th {\n",
              "        text-align: right;\n",
              "    }\n",
              "</style>\n",
              "<table border=\"1\" class=\"dataframe\">\n",
              "  <thead>\n",
              "    <tr style=\"text-align: right;\">\n",
              "      <th></th>\n",
              "      <th>Humidity</th>\n",
              "      <th>Pressure</th>\n",
              "      <th>PRCP</th>\n",
              "      <th>TAVG</th>\n",
              "    </tr>\n",
              "  </thead>\n",
              "  <tbody>\n",
              "    <tr>\n",
              "      <th>0</th>\n",
              "      <td>57.95</td>\n",
              "      <td>1013.97</td>\n",
              "      <td>1.2</td>\n",
              "      <td>13.3</td>\n",
              "    </tr>\n",
              "    <tr>\n",
              "      <th>1</th>\n",
              "      <td>51.37</td>\n",
              "      <td>1001.23</td>\n",
              "      <td>0.0</td>\n",
              "      <td>14.9</td>\n",
              "    </tr>\n",
              "    <tr>\n",
              "      <th>2</th>\n",
              "      <td>51.49</td>\n",
              "      <td>1006.51</td>\n",
              "      <td>9.3</td>\n",
              "      <td>11.5</td>\n",
              "    </tr>\n",
              "    <tr>\n",
              "      <th>3</th>\n",
              "      <td>69.54</td>\n",
              "      <td>1001.58</td>\n",
              "      <td>19.7</td>\n",
              "      <td>10.4</td>\n",
              "    </tr>\n",
              "    <tr>\n",
              "      <th>4</th>\n",
              "      <td>67.70</td>\n",
              "      <td>1001.83</td>\n",
              "      <td>0.3</td>\n",
              "      <td>9.9</td>\n",
              "    </tr>\n",
              "    <tr>\n",
              "      <th>...</th>\n",
              "      <td>...</td>\n",
              "      <td>...</td>\n",
              "      <td>...</td>\n",
              "      <td>...</td>\n",
              "    </tr>\n",
              "    <tr>\n",
              "      <th>362</th>\n",
              "      <td>44.68</td>\n",
              "      <td>1029.93</td>\n",
              "      <td>0.0</td>\n",
              "      <td>15.3</td>\n",
              "    </tr>\n",
              "    <tr>\n",
              "      <th>363</th>\n",
              "      <td>37.91</td>\n",
              "      <td>1023.37</td>\n",
              "      <td>0.0</td>\n",
              "      <td>15.8</td>\n",
              "    </tr>\n",
              "    <tr>\n",
              "      <th>364</th>\n",
              "      <td>37.19</td>\n",
              "      <td>1020.37</td>\n",
              "      <td>0.0</td>\n",
              "      <td>14.9</td>\n",
              "    </tr>\n",
              "    <tr>\n",
              "      <th>365</th>\n",
              "      <td>39.92</td>\n",
              "      <td>1020.93</td>\n",
              "      <td>0.0</td>\n",
              "      <td>14.6</td>\n",
              "    </tr>\n",
              "    <tr>\n",
              "      <th>366</th>\n",
              "      <td>42.96</td>\n",
              "      <td>1023.08</td>\n",
              "      <td>0.0</td>\n",
              "      <td>14.4</td>\n",
              "    </tr>\n",
              "  </tbody>\n",
              "</table>\n",
              "<p>367 rows × 4 columns</p>\n",
              "</div>"
            ],
            "text/plain": [
              "     Humidity  Pressure  PRCP  TAVG\n",
              "0       57.95   1013.97   1.2  13.3\n",
              "1       51.37   1001.23   0.0  14.9\n",
              "2       51.49   1006.51   9.3  11.5\n",
              "3       69.54   1001.58  19.7  10.4\n",
              "4       67.70   1001.83   0.3   9.9\n",
              "..        ...       ...   ...   ...\n",
              "362     44.68   1029.93   0.0  15.3\n",
              "363     37.91   1023.37   0.0  15.8\n",
              "364     37.19   1020.37   0.0  14.9\n",
              "365     39.92   1020.93   0.0  14.6\n",
              "366     42.96   1023.08   0.0  14.4\n",
              "\n",
              "[367 rows x 4 columns]"
            ]
          },
          "execution_count": 9,
          "metadata": {},
          "output_type": "execute_result"
        }
      ],
      "source": [
        "df_refined = df_merge.drop(columns=['created_at','SNWD','TMAX','TMIN','PM2.5'])\n",
        "df_refined"
      ]
    },
    {
      "cell_type": "code",
      "execution_count": null,
      "metadata": {
        "colab": {
          "base_uri": "https://localhost:8080/"
        },
        "id": "_Hjtu31B2Ii-",
        "outputId": "250a1708-9638-421c-def7-81c3fb26be37"
      },
      "outputs": [
        {
          "data": {
            "text/plain": [
              "array([[  57.95, 1013.97,    1.2 ,   13.3 ],\n",
              "       [  51.37, 1001.23,    0.  ,   14.9 ],\n",
              "       [  51.49, 1006.51,    9.3 ,   11.5 ],\n",
              "       ...,\n",
              "       [  37.19, 1020.37,    0.  ,   14.9 ],\n",
              "       [  39.92, 1020.93,    0.  ,   14.6 ],\n",
              "       [  42.96, 1023.08,    0.  ,   14.4 ]])"
            ]
          },
          "execution_count": 10,
          "metadata": {},
          "output_type": "execute_result"
        }
      ],
      "source": [
        "values = df_refined.values\n",
        "values"
      ]
    },
    {
      "cell_type": "markdown",
      "metadata": {
        "id": "ExCF8tLMDiKA"
      },
      "source": [
        "###Create the supervised dataset"
      ]
    },
    {
      "cell_type": "code",
      "execution_count": null,
      "metadata": {
        "colab": {
          "background_save": true,
          "base_uri": "https://localhost:8080/",
          "height": 423
        },
        "id": "VgJ6TMc5zVQS",
        "outputId": "7806cefa-370b-459f-966a-6eba3bbd10e5"
      },
      "outputs": [
        {
          "data": {
            "application/vnd.google.colaboratory.intrinsic+json": {
              "type": "string"
            },
            "text/plain": [
              "'\\\\begin{tabular}{lrrrrrrrrrrrr}\\n\\\\toprule\\n{} &  var1(t-2) &  var2(t-2) &  var3(t-2) &  var4(t-2) &  var1(t-1) &  var2(t-1) &  var3(t-1) &  var4(t-1) &  var1(t) &  var2(t) &  var3(t) &  var4(t) \\\\\\\\\\n\\\\midrule\\n2   &      57.95 &    1013.97 &        1.2 &       13.3 &      51.37 &    1001.23 &        0.0 &       14.9 &    51.49 &  1006.51 &      9.3 &     11.5 \\\\\\\\\\n3   &      51.37 &    1001.23 &        0.0 &       14.9 &      51.49 &    1006.51 &        9.3 &       11.5 &    69.54 &  1001.58 &     19.7 &     10.4 \\\\\\\\\\n4   &      51.49 &    1006.51 &        9.3 &       11.5 &      69.54 &    1001.58 &       19.7 &       10.4 &    67.70 &  1001.83 &      0.3 &      9.9 \\\\\\\\\\n5   &      69.54 &    1001.58 &       19.7 &       10.4 &      67.70 &    1001.83 &        0.3 &        9.9 &    52.70 &  1005.92 &      0.2 &     10.2 \\\\\\\\\\n6   &      67.70 &    1001.83 &        0.3 &        9.9 &      52.70 &    1005.92 &        0.2 &       10.2 &    53.15 &  1005.46 &      0.0 &      9.8 \\\\\\\\\\n7   &      52.70 &    1005.92 &        0.2 &       10.2 &      53.15 &    1005.46 &        0.0 &        9.8 &    52.87 &  1010.78 &      0.0 &     11.6 \\\\\\\\\\n8   &      53.15 &    1005.46 &        0.0 &        9.8 &      52.87 &    1010.78 &        0.0 &       11.6 &    53.02 &  1016.74 &      1.6 &     11.0 \\\\\\\\\\n9   &      52.87 &    1010.78 &        0.0 &       11.6 &      53.02 &    1016.74 &        1.6 &       11.0 &    53.27 &  1018.36 &      2.0 &     11.4 \\\\\\\\\\n10  &      53.02 &    1016.74 &        1.6 &       11.0 &      53.27 &    1018.36 &        2.0 &       11.4 &    49.30 &  1020.25 &      1.3 &     11.4 \\\\\\\\\\n11  &      53.27 &    1018.36 &        2.0 &       11.4 &      49.30 &    1020.25 &        1.3 &       11.4 &    63.73 &  1014.02 &      3.3 &     10.3 \\\\\\\\\\n12  &      49.30 &    1020.25 &        1.3 &       11.4 &      63.73 &    1014.02 &        3.3 &       10.3 &    61.85 &  1005.92 &      0.0 &     10.1 \\\\\\\\\\n13  &      63.73 &    1014.02 &        3.3 &       10.3 &      61.85 &    1005.92 &        0.0 &       10.1 &    58.33 &  1003.68 &     12.3 &     10.3 \\\\\\\\\\n14  &      61.85 &    1005.92 &        0.0 &       10.1 &      58.33 &    1003.68 &       12.3 &       10.3 &    55.77 &  1006.26 &      0.0 &     11.3 \\\\\\\\\\n15  &      58.33 &    1003.68 &       12.3 &       10.3 &      55.77 &    1006.26 &        0.0 &       11.3 &    53.41 &  1007.65 &      4.0 &     12.2 \\\\\\\\\\n16  &      55.77 &    1006.26 &        0.0 &       11.3 &      53.41 &    1007.65 &        4.0 &       12.2 &    50.87 &  1009.91 &      0.0 &     13.6 \\\\\\\\\\n17  &      53.41 &    1007.65 &        4.0 &       12.2 &      50.87 &    1009.91 &        0.0 &       13.6 &    49.83 &  1010.90 &      0.0 &     13.3 \\\\\\\\\\n18  &      50.87 &    1009.91 &        0.0 &       13.6 &      49.83 &    1010.90 &        0.0 &       13.3 &    51.73 &  1007.95 &      1.1 &     13.2 \\\\\\\\\\n19  &      49.83 &    1010.90 &        0.0 &       13.3 &      51.73 &    1007.95 &        1.1 &       13.2 &    52.98 &  1010.43 &      0.8 &     11.7 \\\\\\\\\\n20  &      51.73 &    1007.95 &        1.1 &       13.2 &      52.98 &    1010.43 &        0.8 &       11.7 &    49.81 &  1018.12 &      0.0 &     11.7 \\\\\\\\\\n21  &      52.98 &    1010.43 &        0.8 &       11.7 &      49.81 &    1018.12 &        0.0 &       11.7 &    45.76 &  1018.43 &      0.0 &     12.0 \\\\\\\\\\n22  &      49.81 &    1018.12 &        0.0 &       11.7 &      45.76 &    1018.43 &        0.0 &       12.0 &    59.35 &  1014.90 &     16.2 &     13.8 \\\\\\\\\\n23  &      45.76 &    1018.43 &        0.0 &       12.0 &      59.35 &    1014.90 &       16.2 &       13.8 &    66.48 &  1015.99 &      0.0 &     14.7 \\\\\\\\\\n24  &      59.35 &    1014.90 &       16.2 &       13.8 &      66.48 &    1015.99 &        0.0 &       14.7 &    58.98 &  1021.90 &      0.0 &     14.9 \\\\\\\\\\n25  &      66.48 &    1015.99 &        0.0 &       14.7 &      58.98 &    1021.90 &        0.0 &       14.9 &    55.44 &  1029.27 &      0.0 &     14.1 \\\\\\\\\\n26  &      58.98 &    1021.90 &        0.0 &       14.9 &      55.44 &    1029.27 &        0.0 &       14.1 &    49.54 &  1027.63 &      0.0 &     15.4 \\\\\\\\\\n27  &      55.44 &    1029.27 &        0.0 &       14.1 &      49.54 &    1027.63 &        0.0 &       15.4 &    45.78 &  1019.17 &      0.8 &     17.7 \\\\\\\\\\n28  &      49.54 &    1027.63 &        0.0 &       15.4 &      45.78 &    1019.17 &        0.8 &       17.7 &    53.86 &  1012.94 &      0.1 &     17.1 \\\\\\\\\\n29  &      45.78 &    1019.17 &        0.8 &       17.7 &      53.86 &    1012.94 &        0.1 &       17.1 &    51.32 &  1012.23 &      0.6 &     15.7 \\\\\\\\\\n30  &      53.86 &    1012.94 &        0.1 &       17.1 &      51.32 &    1012.23 &        0.6 &       15.7 &    50.89 &  1020.73 &      0.0 &     14.2 \\\\\\\\\\n31  &      51.32 &    1012.23 &        0.6 &       15.7 &      50.89 &    1020.73 &        0.0 &       14.2 &    48.59 &  1027.01 &      0.0 &     13.4 \\\\\\\\\\n32  &      50.89 &    1020.73 &        0.0 &       14.2 &      48.59 &    1027.01 &        0.0 &       13.4 &    44.68 &  1028.71 &      0.0 &     12.6 \\\\\\\\\\n33  &      48.59 &    1027.01 &        0.0 &       13.4 &      44.68 &    1028.71 &        0.0 &       12.6 &    46.59 &  1024.47 &      0.0 &     14.9 \\\\\\\\\\n34  &      44.68 &    1028.71 &        0.0 &       12.6 &      46.59 &    1024.47 &        0.0 &       14.9 &    52.83 &  1018.81 &      0.3 &     15.4 \\\\\\\\\\n35  &      46.59 &    1024.47 &        0.0 &       14.9 &      52.83 &    1018.81 &        0.3 &       15.4 &    60.82 &  1014.84 &      0.9 &     14.2 \\\\\\\\\\n36  &      52.83 &    1018.81 &        0.3 &       15.4 &      60.82 &    1014.84 &        0.9 &       14.2 &    43.71 &  1017.64 &      0.0 &     14.0 \\\\\\\\\\n37  &      60.82 &    1014.84 &        0.9 &       14.2 &      43.71 &    1017.64 &        0.0 &       14.0 &    54.55 &  1019.35 &      1.0 &     14.1 \\\\\\\\\\n38  &      43.71 &    1017.64 &        0.0 &       14.0 &      54.55 &    1019.35 &        1.0 &       14.1 &    56.01 &  1018.92 &      0.0 &     17.4 \\\\\\\\\\n39  &      54.55 &    1019.35 &        1.0 &       14.1 &      56.01 &    1018.92 &        0.0 &       17.4 &    58.30 &  1014.80 &      4.7 &     16.8 \\\\\\\\\\n40  &      56.01 &    1018.92 &        0.0 &       17.4 &      58.30 &    1014.80 &        4.7 &       16.8 &    54.88 &  1010.46 &      0.0 &     17.6 \\\\\\\\\\n41  &      58.30 &    1014.80 &        4.7 &       16.8 &      54.88 &    1010.46 &        0.0 &       17.6 &    55.92 &  1018.36 &      0.0 &     15.4 \\\\\\\\\\n42  &      54.88 &    1010.46 &        0.0 &       17.6 &      55.92 &    1018.36 &        0.0 &       15.4 &    50.39 &  1024.67 &      0.0 &     15.0 \\\\\\\\\\n43  &      55.92 &    1018.36 &        0.0 &       15.4 &      50.39 &    1024.67 &        0.0 &       15.0 &    51.75 &  1023.85 &      0.0 &     13.8 \\\\\\\\\\n44  &      50.39 &    1024.67 &        0.0 &       15.0 &      51.75 &    1023.85 &        0.0 &       13.8 &    48.25 &  1019.72 &      0.0 &     16.8 \\\\\\\\\\n45  &      51.75 &    1023.85 &        0.0 &       13.8 &      48.25 &    1019.72 &        0.0 &       16.8 &    49.28 &  1016.61 &      0.3 &     18.4 \\\\\\\\\\n46  &      48.25 &    1019.72 &        0.0 &       16.8 &      49.28 &    1016.61 &        0.3 &       18.4 &    57.35 &  1009.43 &      1.9 &     16.0 \\\\\\\\\\n47  &      49.28 &    1016.61 &        0.3 &       18.4 &      57.35 &    1009.43 &        1.9 &       16.0 &    51.17 &  1007.74 &      2.7 &     16.1 \\\\\\\\\\n48  &      57.35 &    1009.43 &        1.9 &       16.0 &      51.17 &    1007.74 &        2.7 &       16.1 &    60.16 &  1001.75 &      3.9 &     16.5 \\\\\\\\\\n49  &      51.17 &    1007.74 &        2.7 &       16.1 &      60.16 &    1001.75 &        3.9 &       16.5 &    56.38 &  1005.74 &      0.0 &     16.0 \\\\\\\\\\n50  &      60.16 &    1001.75 &        3.9 &       16.5 &      56.38 &    1005.74 &        0.0 &       16.0 &    59.61 &  1012.34 &      6.8 &     16.7 \\\\\\\\\\n51  &      56.38 &    1005.74 &        0.0 &       16.0 &      59.61 &    1012.34 &        6.8 &       16.7 &    53.09 &  1013.76 &      0.0 &     21.0 \\\\\\\\\\n52  &      59.61 &    1012.34 &        6.8 &       16.7 &      53.09 &    1013.76 &        0.0 &       21.0 &    51.07 &  1012.53 &      0.0 &     19.1 \\\\\\\\\\n53  &      53.09 &    1013.76 &        0.0 &       21.0 &      51.07 &    1012.53 &        0.0 &       19.1 &    50.02 &  1007.95 &      0.0 &     19.1 \\\\\\\\\\n54  &      51.07 &    1012.53 &        0.0 &       19.1 &      50.02 &    1007.95 &        0.0 &       19.1 &    57.26 &  1004.92 &      0.0 &     18.8 \\\\\\\\\\n55  &      50.02 &    1007.95 &        0.0 &       19.1 &      57.26 &    1004.92 &        0.0 &       18.8 &    50.57 &  1006.00 &      1.9 &     18.6 \\\\\\\\\\n56  &      57.26 &    1004.92 &        0.0 &       18.8 &      50.57 &    1006.00 &        1.9 &       18.6 &    47.97 &  1009.27 &      0.0 &     15.3 \\\\\\\\\\n57  &      50.57 &    1006.00 &        1.9 &       18.6 &      47.97 &    1009.27 &        0.0 &       15.3 &    47.78 &  1007.70 &      0.0 &     14.9 \\\\\\\\\\n58  &      47.97 &    1009.27 &        0.0 &       15.3 &      47.78 &    1007.70 &        0.0 &       14.9 &    51.72 &  1006.10 &      1.9 &     15.7 \\\\\\\\\\n59  &      47.78 &    1007.70 &        0.0 &       14.9 &      51.72 &    1006.10 &        1.9 &       15.7 &    66.09 &  1006.54 &     22.9 &     15.3 \\\\\\\\\\n60  &      51.72 &    1006.10 &        1.9 &       15.7 &      66.09 &    1006.54 &       22.9 &       15.3 &    57.76 &  1013.19 &      0.0 &     15.7 \\\\\\\\\\n61  &      66.09 &    1006.54 &       22.9 &       15.3 &      57.76 &    1013.19 &        0.0 &       15.7 &    50.03 &  1018.91 &      0.0 &     15.7 \\\\\\\\\\n62  &      57.76 &    1013.19 &        0.0 &       15.7 &      50.03 &    1018.91 &        0.0 &       15.7 &    52.25 &  1019.04 &      0.0 &     15.9 \\\\\\\\\\n63  &      50.03 &    1018.91 &        0.0 &       15.7 &      52.25 &    1019.04 &        0.0 &       15.9 &    59.42 &  1014.48 &      2.4 &     16.4 \\\\\\\\\\n64  &      52.25 &    1019.04 &        0.0 &       15.9 &      59.42 &    1014.48 &        2.4 &       16.4 &    60.59 &  1007.67 &      3.2 &     17.5 \\\\\\\\\\n65  &      59.42 &    1014.48 &        2.4 &       16.4 &      60.59 &    1007.67 &        3.2 &       17.5 &    51.82 &  1003.40 &      1.6 &     16.3 \\\\\\\\\\n66  &      60.59 &    1007.67 &        3.2 &       17.5 &      51.82 &    1003.40 &        1.6 &       16.3 &    58.45 &  1000.04 &      2.8 &     15.6 \\\\\\\\\\n67  &      51.82 &    1003.40 &        1.6 &       16.3 &      58.45 &    1000.04 &        2.8 &       15.6 &    56.48 &  1003.30 &      0.0 &     16.2 \\\\\\\\\\n68  &      58.45 &    1000.04 &        2.8 &       15.6 &      56.48 &    1003.30 &        0.0 &       16.2 &    54.88 &  1006.00 &     20.3 &     15.1 \\\\\\\\\\n69  &      56.48 &    1003.30 &        0.0 &       16.2 &      54.88 &    1006.00 &       20.3 &       15.1 &    69.44 &   988.50 &      3.2 &     16.7 \\\\\\\\\\n70  &      54.88 &    1006.00 &       20.3 &       15.1 &      69.44 &     988.50 &        3.2 &       16.7 &    66.36 &   993.34 &     10.2 &     16.6 \\\\\\\\\\n71  &      69.44 &     988.50 &        3.2 &       16.7 &      66.36 &     993.34 &       10.2 &       16.6 &    58.02 &  1009.14 &      0.0 &     13.7 \\\\\\\\\\n72  &      66.36 &     993.34 &       10.2 &       16.6 &      58.02 &    1009.14 &        0.0 &       13.7 &    58.37 &  1014.45 &      3.2 &     11.8 \\\\\\\\\\n73  &      58.02 &    1009.14 &        0.0 &       13.7 &      58.37 &    1014.45 &        3.2 &       11.8 &    57.65 &  1015.04 &      2.0 &     13.0 \\\\\\\\\\n74  &      58.37 &    1014.45 &        3.2 &       11.8 &      57.65 &    1015.04 &        2.0 &       13.0 &    64.22 &  1005.07 &      0.2 &     16.5 \\\\\\\\\\n75  &      57.65 &    1015.04 &        2.0 &       13.0 &      64.22 &    1005.07 &        0.2 &       16.5 &    53.50 &  1010.57 &      3.9 &     16.2 \\\\\\\\\\n76  &      64.22 &    1005.07 &        0.2 &       16.5 &      53.50 &    1010.57 &        3.9 &       16.2 &    60.11 &   999.10 &      3.5 &     16.9 \\\\\\\\\\n77  &      53.50 &    1010.57 &        3.9 &       16.2 &      60.11 &     999.10 &        3.5 &       16.9 &    51.66 &   997.90 &      0.0 &     15.1 \\\\\\\\\\n78  &      60.11 &     999.10 &        3.5 &       16.9 &      51.66 &     997.90 &        0.0 &       15.1 &    59.90 &   999.36 &      3.0 &     13.8 \\\\\\\\\\n79  &      51.66 &     997.90 &        0.0 &       15.1 &      59.90 &     999.36 &        3.0 &       13.8 &    54.73 &  1010.87 &      0.1 &     13.2 \\\\\\\\\\n80  &      59.90 &     999.36 &        3.0 &       13.8 &      54.73 &    1010.87 &        0.1 &       13.2 &    60.35 &  1019.81 &      2.4 &     12.9 \\\\\\\\\\n81  &      54.73 &    1010.87 &        0.1 &       13.2 &      60.35 &    1019.81 &        2.4 &       12.9 &    61.00 &  1019.43 &      4.1 &     14.1 \\\\\\\\\\n82  &      60.35 &    1019.81 &        2.4 &       12.9 &      61.00 &    1019.43 &        4.1 &       14.1 &    62.53 &  1017.66 &      0.0 &     17.0 \\\\\\\\\\n83  &      61.00 &    1019.43 &        4.1 &       14.1 &      62.53 &    1017.66 &        0.0 &       17.0 &    49.49 &  1018.89 &      0.0 &     17.4 \\\\\\\\\\n84  &      62.53 &    1017.66 &        0.0 &       17.0 &      49.49 &    1018.89 &        0.0 &       17.4 &    52.92 &  1014.59 &      0.0 &     15.8 \\\\\\\\\\n85  &      49.49 &    1018.89 &        0.0 &       17.4 &      52.92 &    1014.59 &        0.0 &       15.8 &    61.56 &  1016.38 &      0.0 &     15.7 \\\\\\\\\\n86  &      52.92 &    1014.59 &        0.0 &       15.8 &      61.56 &    1016.38 &        0.0 &       15.7 &    54.42 &  1016.65 &      0.0 &     15.2 \\\\\\\\\\n87  &      61.56 &    1016.38 &        0.0 &       15.7 &      54.42 &    1016.65 &        0.0 &       15.2 &    50.86 &  1012.05 &      0.0 &     16.3 \\\\\\\\\\n88  &      54.42 &    1016.65 &        0.0 &       15.2 &      50.86 &    1012.05 &        0.0 &       16.3 &    49.71 &  1010.05 &      0.1 &     14.8 \\\\\\\\\\n89  &      50.86 &    1012.05 &        0.0 &       16.3 &      49.71 &    1010.05 &        0.1 &       14.8 &    52.42 &  1012.26 &      0.1 &     15.7 \\\\\\\\\\n90  &      49.71 &    1010.05 &        0.1 &       14.8 &      52.42 &    1012.26 &        0.1 &       15.7 &    54.22 &  1009.96 &      2.2 &     17.3 \\\\\\\\\\n91  &      52.42 &    1012.26 &        0.1 &       15.7 &      54.22 &    1009.96 &        2.2 &       17.3 &    52.78 &  1007.34 &      0.2 &     14.6 \\\\\\\\\\n92  &      54.22 &    1009.96 &        2.2 &       17.3 &      52.78 &    1007.34 &        0.2 &       14.6 &    51.38 &  1017.48 &      0.0 &     12.3 \\\\\\\\\\n93  &      52.78 &    1007.34 &        0.2 &       14.6 &      51.38 &    1017.48 &        0.0 &       12.3 &    61.16 &  1019.30 &      2.5 &     13.4 \\\\\\\\\\n94  &      51.38 &    1017.48 &        0.0 &       12.3 &      61.16 &    1019.30 &        2.5 &       13.4 &    61.02 &  1016.53 &      1.6 &     16.2 \\\\\\\\\\n95  &      61.16 &    1019.30 &        2.5 &       13.4 &      61.02 &    1016.53 &        1.6 &       16.2 &    55.52 &  1016.45 &      0.2 &     12.2 \\\\\\\\\\n96  &      61.02 &    1016.53 &        1.6 &       16.2 &      55.52 &    1016.45 &        0.2 &       12.2 &    52.48 &  1026.23 &      0.6 &     12.2 \\\\\\\\\\n97  &      55.52 &    1016.45 &        0.2 &       12.2 &      52.48 &    1026.23 &        0.6 &       12.2 &    54.04 &  1019.85 &      0.0 &     13.5 \\\\\\\\\\n98  &      52.48 &    1026.23 &        0.6 &       12.2 &      54.04 &    1019.85 &        0.0 &       13.5 &    54.12 &  1025.74 &      0.0 &     12.5 \\\\\\\\\\n99  &      54.04 &    1019.85 &        0.0 &       13.5 &      54.12 &    1025.74 &        0.0 &       12.5 &    53.88 &  1020.73 &      2.1 &     14.0 \\\\\\\\\\n100 &      54.12 &    1025.74 &        0.0 &       12.5 &      53.88 &    1020.73 &        2.1 &       14.0 &    60.57 &  1012.64 &      0.3 &     12.7 \\\\\\\\\\n101 &      53.88 &    1020.73 &        2.1 &       14.0 &      60.57 &    1012.64 &        0.3 &       12.7 &    56.00 &  1017.51 &      0.9 &     11.4 \\\\\\\\\\n102 &      60.57 &    1012.64 &        0.3 &       12.7 &      56.00 &    1017.51 &        0.9 &       11.4 &    56.52 &  1015.74 &      0.2 &     15.9 \\\\\\\\\\n103 &      56.00 &    1017.51 &        0.9 &       11.4 &      56.52 &    1015.74 &        0.2 &       15.9 &    56.74 &  1022.87 &      0.5 &     15.0 \\\\\\\\\\n104 &      56.52 &    1015.74 &        0.2 &       15.9 &      56.74 &    1022.87 &        0.5 &       15.0 &    50.65 &  1035.10 &      0.0 &     11.6 \\\\\\\\\\n105 &      56.74 &    1022.87 &        0.5 &       15.0 &      50.65 &    1035.10 &        0.0 &       11.6 &    44.83 &  1028.42 &      0.6 &     13.4 \\\\\\\\\\n106 &      50.65 &    1035.10 &        0.0 &       11.6 &      44.83 &    1028.42 &        0.6 &       13.4 &    66.16 &  1022.73 &     10.9 &     13.2 \\\\\\\\\\n107 &      44.83 &    1028.42 &        0.6 &       13.4 &      66.16 &    1022.73 &       10.9 &       13.2 &    66.52 &  1023.53 &      0.1 &     11.7 \\\\\\\\\\n108 &      66.16 &    1022.73 &       10.9 &       13.2 &      66.52 &    1023.53 &        0.1 &       11.7 &    51.45 &  1027.40 &      0.0 &     10.1 \\\\\\\\\\n109 &      66.52 &    1023.53 &        0.1 &       11.7 &      51.45 &    1027.40 &        0.0 &       10.1 &    53.04 &  1029.31 &      0.0 &     11.4 \\\\\\\\\\n110 &      51.45 &    1027.40 &        0.0 &       10.1 &      53.04 &    1029.31 &        0.0 &       11.4 &    54.11 &  1029.11 &      0.0 &     12.7 \\\\\\\\\\n111 &      53.04 &    1029.31 &        0.0 &       11.4 &      54.11 &    1029.11 &        0.0 &       12.7 &    52.99 &  1019.75 &      0.0 &     14.3 \\\\\\\\\\n112 &      54.11 &    1029.11 &        0.0 &       12.7 &      52.99 &    1019.75 &        0.0 &       14.3 &    54.43 &  1004.90 &     10.0 &     15.9 \\\\\\\\\\n113 &      52.99 &    1019.75 &        0.0 &       14.3 &      54.43 &    1004.90 &       10.0 &       15.9 &    68.83 &   998.80 &      5.3 &     15.5 \\\\\\\\\\n114 &      54.43 &    1004.90 &       10.0 &       15.9 &      68.83 &     998.80 &        5.3 &       15.5 &    66.58 &  1000.55 &      7.6 &     13.3 \\\\\\\\\\n115 &      68.83 &     998.80 &        5.3 &       15.5 &      66.58 &    1000.55 &        7.6 &       13.3 &    60.22 &   994.60 &      0.0 &     15.4 \\\\\\\\\\n116 &      66.58 &    1000.55 &        7.6 &       13.3 &      60.22 &     994.60 &        0.0 &       15.4 &    62.11 &   996.09 &      1.7 &     14.9 \\\\\\\\\\n117 &      60.22 &     994.60 &        0.0 &       15.4 &      62.11 &     996.09 &        1.7 &       14.9 &    59.20 &   994.60 &      3.7 &     13.1 \\\\\\\\\\n118 &      62.11 &     996.09 &        1.7 &       14.9 &      59.20 &     994.60 &        3.7 &       13.1 &    60.76 &   996.57 &      1.4 &     12.7 \\\\\\\\\\n119 &      59.20 &     994.60 &        3.7 &       13.1 &      60.76 &     996.57 &        1.4 &       12.7 &    63.50 &  1000.39 &     19.3 &     13.6 \\\\\\\\\\n120 &      60.76 &     996.57 &        1.4 &       12.7 &      63.50 &    1000.39 &       19.3 &       13.6 &    64.87 &   998.89 &      0.1 &     12.4 \\\\\\\\\\n121 &      63.50 &    1000.39 &       19.3 &       13.6 &      64.87 &     998.89 &        0.1 &       12.4 &    69.73 &  1003.22 &     24.6 &     10.5 \\\\\\\\\\n122 &      64.87 &     998.89 &        0.1 &       12.4 &      69.73 &    1003.22 &       24.6 &       10.5 &    69.85 &  1003.20 &      4.6 &      9.6 \\\\\\\\\\n123 &      69.73 &    1003.22 &       24.6 &       10.5 &      69.85 &    1003.20 &        4.6 &        9.6 &    56.08 &  1020.04 &      0.1 &      7.3 \\\\\\\\\\n124 &      69.85 &    1003.20 &        4.6 &        9.6 &      56.08 &    1020.04 &        0.1 &        7.3 &    61.53 &  1006.88 &      6.4 &     11.2 \\\\\\\\\\n125 &      56.08 &    1020.04 &        0.1 &        7.3 &      61.53 &    1006.88 &        6.4 &       11.2 &    67.88 &  1002.09 &      0.8 &     12.3 \\\\\\\\\\n126 &      61.53 &    1006.88 &        6.4 &       11.2 &      67.88 &    1002.09 &        0.8 &       12.3 &    69.85 &  1008.29 &     13.6 &     12.8 \\\\\\\\\\n127 &      67.88 &    1002.09 &        0.8 &       12.3 &      69.85 &    1008.29 &       13.6 &       12.8 &    60.49 &  1011.96 &      5.7 &     11.7 \\\\\\\\\\n128 &      69.85 &    1008.29 &       13.6 &       12.8 &      60.49 &    1011.96 &        5.7 &       11.7 &    61.20 &  1005.70 &      0.5 &     13.2 \\\\\\\\\\n129 &      60.49 &    1011.96 &        5.7 &       11.7 &      61.20 &    1005.70 &        0.5 &       13.2 &    54.83 &   999.90 &      0.0 &     11.6 \\\\\\\\\\n130 &      61.20 &    1005.70 &        0.5 &       13.2 &      54.83 &     999.90 &        0.0 &       11.6 &    58.09 &  1000.84 &      0.4 &      9.9 \\\\\\\\\\n131 &      54.83 &     999.90 &        0.0 &       11.6 &      58.09 &    1000.84 &        0.4 &        9.9 &    61.79 &  1002.37 &      2.8 &     11.9 \\\\\\\\\\n132 &      58.09 &    1000.84 &        0.4 &        9.9 &      61.79 &    1002.37 &        2.8 &       11.9 &    58.75 &   999.24 &      0.0 &     11.7 \\\\\\\\\\n133 &      61.79 &    1002.37 &        2.8 &       11.9 &      58.75 &     999.24 &        0.0 &       11.7 &    56.84 &  1002.76 &      6.9 &     10.3 \\\\\\\\\\n134 &      58.75 &     999.24 &        0.0 &       11.7 &      56.84 &    1002.76 &        6.9 &       10.3 &    62.40 &  1001.00 &      6.4 &      9.1 \\\\\\\\\\n135 &      56.84 &    1002.76 &        6.9 &       10.3 &      62.40 &    1001.00 &        6.4 &        9.1 &    64.88 &  1003.24 &      2.0 &      9.9 \\\\\\\\\\n136 &      62.40 &    1001.00 &        6.4 &        9.1 &      64.88 &    1003.24 &        2.0 &        9.9 &    60.68 &   998.79 &      2.8 &     10.9 \\\\\\\\\\n137 &      64.88 &    1003.24 &        2.0 &        9.9 &      60.68 &     998.79 &        2.8 &       10.9 &    54.09 &   998.45 &      0.4 &     10.2 \\\\\\\\\\n138 &      60.68 &     998.79 &        2.8 &       10.9 &      54.09 &     998.45 &        0.4 &       10.2 &    52.50 &   995.34 &      1.0 &     10.0 \\\\\\\\\\n139 &      54.09 &     998.45 &        0.4 &       10.2 &      52.50 &     995.34 &        1.0 &       10.0 &    58.87 &   991.68 &      1.1 &      8.6 \\\\\\\\\\n140 &      52.50 &     995.34 &        1.0 &       10.0 &      58.87 &     991.68 &        1.1 &        8.6 &    64.47 &  1001.46 &      1.1 &      7.9 \\\\\\\\\\n141 &      58.87 &     991.68 &        1.1 &        8.6 &      64.47 &    1001.46 &        1.1 &        7.9 &    57.65 &  1016.08 &      0.0 &      7.3 \\\\\\\\\\n142 &      64.47 &    1001.46 &        1.1 &        7.9 &      57.65 &    1016.08 &        0.0 &        7.3 &    54.32 &  1023.06 &      0.0 &      6.0 \\\\\\\\\\n143 &      57.65 &    1016.08 &        0.0 &        7.3 &      54.32 &    1023.06 &        0.0 &        6.0 &    54.62 &  1018.90 &      0.0 &      8.4 \\\\\\\\\\n144 &      54.32 &    1023.06 &        0.0 &        6.0 &      54.62 &    1018.90 &        0.0 &        8.4 &    54.05 &  1006.65 &      0.1 &     11.8 \\\\\\\\\\n145 &      54.62 &    1018.90 &        0.0 &        8.4 &      54.05 &    1006.65 &        0.1 &       11.8 &    62.90 &  1002.56 &      1.0 &      8.8 \\\\\\\\\\n146 &      54.05 &    1006.65 &        0.1 &       11.8 &      62.90 &    1002.56 &        1.0 &        8.8 &    66.00 &  1006.07 &      9.9 &      4.6 \\\\\\\\\\n147 &      62.90 &    1002.56 &        1.0 &        8.8 &      66.00 &    1006.07 &        9.9 &        4.6 &    59.17 &  1009.74 &      0.3 &      5.2 \\\\\\\\\\n148 &      66.00 &    1006.07 &        9.9 &        4.6 &      59.17 &    1009.74 &        0.3 &        5.2 &    55.49 &  1024.09 &      0.0 &      4.6 \\\\\\\\\\n149 &      59.17 &    1009.74 &        0.3 &        5.2 &      55.49 &    1024.09 &        0.0 &        4.6 &    52.30 &  1026.30 &      0.0 &      4.3 \\\\\\\\\\n150 &      55.49 &    1024.09 &        0.0 &        4.6 &      52.30 &    1026.30 &        0.0 &        4.3 &    48.79 &  1025.54 &      0.0 &      8.2 \\\\\\\\\\n151 &      52.30 &    1026.30 &        0.0 &        4.3 &      48.79 &    1025.54 &        0.0 &        8.2 &    50.14 &  1021.22 &      0.0 &      9.2 \\\\\\\\\\n152 &      48.79 &    1025.54 &        0.0 &        8.2 &      50.14 &    1021.22 &        0.0 &        9.2 &    64.96 &  1013.11 &      4.8 &      9.7 \\\\\\\\\\n153 &      50.14 &    1021.22 &        0.0 &        9.2 &      64.96 &    1013.11 &        4.8 &        9.7 &    68.87 &   988.23 &      4.4 &     12.7 \\\\\\\\\\n154 &      64.96 &    1013.11 &        4.8 &        9.7 &      68.87 &     988.23 &        4.4 &       12.7 &    65.82 &   973.53 &     20.2 &      8.7 \\\\\\\\\\n155 &      68.87 &     988.23 &        4.4 &       12.7 &      65.82 &     973.53 &       20.2 &        8.7 &    69.52 &   980.24 &      2.3 &      6.3 \\\\\\\\\\n156 &      65.82 &     973.53 &       20.2 &        8.7 &      69.52 &     980.24 &        2.3 &        6.3 &    69.96 &   984.30 &     14.8 &      7.9 \\\\\\\\\\n157 &      69.52 &     980.24 &        2.3 &        6.3 &      69.96 &     984.30 &       14.8 &        7.9 &    63.01 &  1005.14 &      0.1 &      8.5 \\\\\\\\\\n158 &      69.96 &     984.30 &       14.8 &        7.9 &      63.01 &    1005.14 &        0.1 &        8.5 &    61.04 &   999.76 &      9.5 &      5.9 \\\\\\\\\\n159 &      63.01 &    1005.14 &        0.1 &        8.5 &      61.04 &     999.76 &        9.5 &        5.9 &    68.94 &   994.43 &     11.8 &      6.4 \\\\\\\\\\n160 &      61.04 &     999.76 &        9.5 &        5.9 &      68.94 &     994.43 &       11.8 &        6.4 &    54.43 &  1011.08 &      6.3 &      5.0 \\\\\\\\\\n161 &      68.94 &     994.43 &       11.8 &        6.4 &      54.43 &    1011.08 &        6.3 &        5.0 &    65.10 &  1002.71 &      4.6 &      5.8 \\\\\\\\\\n162 &      54.43 &    1011.08 &        6.3 &        5.0 &      65.10 &    1002.71 &        4.6 &        5.8 &    63.44 &  1011.10 &      8.0 &      4.6 \\\\\\\\\\n163 &      65.10 &    1002.71 &        4.6 &        5.8 &      63.44 &    1011.10 &        8.0 &        4.6 &    62.38 &  1001.54 &      0.1 &      5.1 \\\\\\\\\\n164 &      63.44 &    1011.10 &        8.0 &        4.6 &      62.38 &    1001.54 &        0.1 &        5.1 &    61.26 &  1001.49 &      0.1 &      4.7 \\\\\\\\\\n165 &      62.38 &    1001.54 &        0.1 &        5.1 &      61.26 &    1001.49 &        0.1 &        4.7 &    63.31 &   993.40 &     15.6 &      4.8 \\\\\\\\\\n166 &      61.26 &    1001.49 &        0.1 &        4.7 &      63.31 &     993.40 &       15.6 &        4.8 &    58.78 &  1005.04 &      0.0 &      4.8 \\\\\\\\\\n167 &      63.31 &     993.40 &       15.6 &        4.8 &      58.78 &    1005.04 &        0.0 &        4.8 &    59.33 &  1013.56 &      0.0 &      4.1 \\\\\\\\\\n168 &      58.78 &    1005.04 &        0.0 &        4.8 &      59.33 &    1013.56 &        0.0 &        4.1 &    64.45 &  1009.63 &      0.0 &      2.6 \\\\\\\\\\n169 &      59.33 &    1013.56 &        0.0 &        4.1 &      64.45 &    1009.63 &        0.0 &        2.6 &    60.64 &  1015.08 &      0.0 &      3.5 \\\\\\\\\\n170 &      64.45 &    1009.63 &        0.0 &        2.6 &      60.64 &    1015.08 &        0.0 &        3.5 &    58.29 &  1017.22 &      0.0 &      2.9 \\\\\\\\\\n171 &      60.64 &    1015.08 &        0.0 &        3.5 &      58.29 &    1017.22 &        0.0 &        2.9 &    58.64 &  1007.62 &      3.5 &      6.6 \\\\\\\\\\n172 &      58.29 &    1017.22 &        0.0 &        2.9 &      58.64 &    1007.62 &        3.5 &        6.6 &    64.44 &  1001.90 &      2.8 &      7.8 \\\\\\\\\\n173 &      58.64 &    1007.62 &        3.5 &        6.6 &      64.44 &    1001.90 &        2.8 &        7.8 &    63.35 &   997.92 &      7.4 &      7.2 \\\\\\\\\\n174 &      64.44 &    1001.90 &        2.8 &        7.8 &      63.35 &     997.92 &        7.4 &        7.2 &    67.59 &   990.93 &     18.7 &      6.6 \\\\\\\\\\n175 &      63.35 &     997.92 &        7.4 &        7.2 &      67.59 &     990.93 &       18.7 &        6.6 &    69.47 &   996.35 &      0.9 &      8.3 \\\\\\\\\\n176 &      67.59 &     990.93 &       18.7 &        6.6 &      69.47 &     996.35 &        0.9 &        8.3 &    68.43 &   999.41 &     10.3 &      7.8 \\\\\\\\\\n177 &      69.47 &     996.35 &        0.9 &        8.3 &      68.43 &     999.41 &       10.3 &        7.8 &    71.40 &   995.18 &      8.6 &      9.9 \\\\\\\\\\n178 &      68.43 &     999.41 &       10.3 &        7.8 &      71.40 &     995.18 &        8.6 &        9.9 &    67.65 &   983.90 &      3.6 &      9.3 \\\\\\\\\\n179 &      71.40 &     995.18 &        8.6 &        9.9 &      67.65 &     983.90 &        3.6 &        9.3 &    67.60 &   984.92 &      0.0 &      7.7 \\\\\\\\\\n180 &      67.65 &     983.90 &        3.6 &        9.3 &      67.60 &     984.92 &        0.0 &        7.7 &    66.55 &   998.95 &      0.8 &      6.7 \\\\\\\\\\n181 &      67.60 &     984.92 &        0.0 &        7.7 &      66.55 &     998.95 &        0.8 &        6.7 &    60.14 &  1015.56 &      0.4 &      3.7 \\\\\\\\\\n182 &      66.55 &     998.95 &        0.8 &        6.7 &      60.14 &    1015.56 &        0.4 &        3.7 &    57.46 &  1019.06 &      0.3 &      5.3 \\\\\\\\\\n183 &      60.14 &    1015.56 &        0.4 &        3.7 &      57.46 &    1019.06 &        0.3 &        5.3 &    64.57 &  1028.08 &      0.4 &      2.2 \\\\\\\\\\n184 &      57.46 &    1019.06 &        0.3 &        5.3 &      64.57 &    1028.08 &        0.4 &        2.2 &    60.90 &  1031.80 &      0.0 &      2.3 \\\\\\\\\\n185 &      64.57 &    1028.08 &        0.4 &        2.2 &      60.90 &    1031.80 &        0.0 &        2.3 &    55.28 &  1022.95 &      0.0 &      4.8 \\\\\\\\\\n186 &      60.90 &    1031.80 &        0.0 &        2.3 &      55.28 &    1022.95 &        0.0 &        4.8 &    56.64 &  1015.46 &      0.0 &      7.7 \\\\\\\\\\n187 &      55.28 &    1022.95 &        0.0 &        4.8 &      56.64 &    1015.46 &        0.0 &        7.7 &    65.16 &  1008.97 &      0.9 &      8.8 \\\\\\\\\\n188 &      56.64 &    1015.46 &        0.0 &        7.7 &      65.16 &    1008.97 &        0.9 &        8.8 &    68.13 &  1001.61 &      0.1 &      9.4 \\\\\\\\\\n189 &      65.16 &    1008.97 &        0.9 &        8.8 &      68.13 &    1001.61 &        0.1 &        9.4 &    66.68 &  1003.86 &      5.6 &      9.2 \\\\\\\\\\n190 &      68.13 &    1001.61 &        0.1 &        9.4 &      66.68 &    1003.86 &        5.6 &        9.2 &    66.61 &   990.98 &      5.6 &      6.6 \\\\\\\\\\n191 &      66.68 &    1003.86 &        5.6 &        9.2 &      66.61 &     990.98 &        5.6 &        6.6 &    59.83 &  1013.64 &      0.8 &      6.6 \\\\\\\\\\n192 &      66.61 &     990.98 &        5.6 &        6.6 &      59.83 &    1013.64 &        0.8 &        6.6 &    65.12 &   999.71 &      3.5 &      9.1 \\\\\\\\\\n193 &      59.83 &    1013.64 &        0.8 &        6.6 &      65.12 &     999.71 &        3.5 &        9.1 &    60.66 &   999.07 &      5.8 &      3.8 \\\\\\\\\\n194 &      65.12 &     999.71 &        3.5 &        9.1 &      60.66 &     999.07 &        5.8 &        3.8 &    69.17 &   980.71 &      5.1 &      5.7 \\\\\\\\\\n195 &      60.66 &     999.07 &        5.8 &        3.8 &      69.17 &     980.71 &        5.1 &        5.7 &    62.39 &   978.26 &      0.2 &      5.3 \\\\\\\\\\n196 &      69.17 &     980.71 &        5.1 &        5.7 &      62.39 &     978.26 &        0.2 &        5.3 &    58.58 &   982.91 &      0.1 &      3.3 \\\\\\\\\\n197 &      62.39 &     978.26 &        0.2 &        5.3 &      58.58 &     982.91 &        0.1 &        3.3 &    58.96 &   985.84 &      0.0 &      3.1 \\\\\\\\\\n198 &      58.58 &     982.91 &        0.1 &        3.3 &      58.96 &     985.84 &        0.0 &        3.1 &    59.30 &   993.84 &      0.2 &      3.8 \\\\\\\\\\n199 &      58.96 &     985.84 &        0.0 &        3.1 &      59.30 &     993.84 &        0.2 &        3.8 &    65.10 &   998.36 &      0.0 &      2.5 \\\\\\\\\\n200 &      59.30 &     993.84 &        0.2 &        3.8 &      65.10 &     998.36 &        0.0 &        2.5 &    68.95 &   993.69 &      5.7 &      6.2 \\\\\\\\\\n201 &      65.10 &     998.36 &        0.0 &        2.5 &      68.95 &     993.69 &        5.7 &        6.2 &    66.56 &   984.19 &     13.0 &      8.5 \\\\\\\\\\n202 &      68.95 &     993.69 &        5.7 &        6.2 &      66.56 &     984.19 &       13.0 &        8.5 &    67.82 &   977.22 &      0.0 &      4.4 \\\\\\\\\\n203 &      66.56 &     984.19 &       13.0 &        8.5 &      67.82 &     977.22 &        0.0 &        4.4 &    67.48 &   973.49 &      0.0 &      2.8 \\\\\\\\\\n204 &      67.82 &     977.22 &        0.0 &        4.4 &      67.48 &     973.49 &        0.0 &        2.8 &    66.36 &   983.78 &      0.2 &      5.8 \\\\\\\\\\n205 &      67.48 &     973.49 &        0.0 &        2.8 &      66.36 &     983.78 &        0.2 &        5.8 &    63.99 &  1002.87 &      2.5 &      6.1 \\\\\\\\\\n206 &      66.36 &     983.78 &        0.2 &        5.8 &      63.99 &    1002.87 &        2.5 &        6.1 &    68.01 &  1005.94 &      0.1 &      5.8 \\\\\\\\\\n207 &      63.99 &    1002.87 &        2.5 &        6.1 &      68.01 &    1005.94 &        0.1 &        5.8 &    62.71 &  1020.82 &      1.1 &      4.0 \\\\\\\\\\n208 &      68.01 &    1005.94 &        0.1 &        5.8 &      62.71 &    1020.82 &        1.1 &        4.0 &    65.88 &  1010.97 &      0.8 &      7.9 \\\\\\\\\\n209 &      62.71 &    1020.82 &        1.1 &        4.0 &      65.88 &    1010.97 &        0.8 &        7.9 &    68.40 &  1022.22 &      0.0 &      9.9 \\\\\\\\\\n210 &      65.88 &    1010.97 &        0.8 &        7.9 &      68.40 &    1022.22 &        0.0 &        9.9 &    48.41 &  1025.42 &      0.0 &     10.6 \\\\\\\\\\n211 &      68.40 &    1022.22 &        0.0 &        9.9 &      48.41 &    1025.42 &        0.0 &       10.6 &    55.62 &  1023.20 &      0.0 &     10.9 \\\\\\\\\\n212 &      48.41 &    1025.42 &        0.0 &       10.6 &      55.62 &    1023.20 &        0.0 &       10.9 &    61.51 &  1024.65 &      0.1 &      8.2 \\\\\\\\\\n213 &      55.62 &    1023.20 &        0.0 &       10.9 &      61.51 &    1024.65 &        0.1 &        8.2 &    58.54 &  1029.84 &      0.0 &      7.3 \\\\\\\\\\n214 &      61.51 &    1024.65 &        0.1 &        8.2 &      58.54 &    1029.84 &        0.0 &        7.3 &    57.30 &  1024.11 &      0.0 &      4.4 \\\\\\\\\\n215 &      58.54 &    1029.84 &        0.0 &        7.3 &      57.30 &    1024.11 &        0.0 &        4.4 &    64.27 &  1008.39 &      1.1 &      9.7 \\\\\\\\\\n216 &      57.30 &    1024.11 &        0.0 &        4.4 &      64.27 &    1008.39 &        1.1 &        9.7 &    61.78 &  1023.74 &      0.0 &      5.5 \\\\\\\\\\n217 &      64.27 &    1008.39 &        1.1 &        9.7 &      61.78 &    1023.74 &        0.0 &        5.5 &    64.75 &  1031.29 &      0.0 &      6.9 \\\\\\\\\\n218 &      61.78 &    1023.74 &        0.0 &        5.5 &      64.75 &    1031.29 &        0.0 &        6.9 &    63.18 &  1025.03 &      2.0 &      8.9 \\\\\\\\\\n219 &      64.75 &    1031.29 &        0.0 &        6.9 &      63.18 &    1025.03 &        2.0 &        8.9 &    61.14 &  1011.87 &      2.4 &      8.6 \\\\\\\\\\n220 &      63.18 &    1025.03 &        2.0 &        8.9 &      61.14 &    1011.87 &        2.4 &        8.6 &    62.28 &  1009.17 &      0.1 &     11.3 \\\\\\\\\\n221 &      61.14 &    1011.87 &        2.4 &        8.6 &      62.28 &    1009.17 &        0.1 &       11.3 &    56.49 &  1016.47 &     10.4 &      7.1 \\\\\\\\\\n222 &      62.28 &    1009.17 &        0.1 &       11.3 &      56.49 &    1016.47 &       10.4 &        7.1 &    66.31 &  1006.30 &      0.1 &      3.1 \\\\\\\\\\n223 &      56.49 &    1016.47 &       10.4 &        7.1 &      66.31 &    1006.30 &        0.1 &        3.1 &    61.91 &  1018.79 &      0.2 &      5.3 \\\\\\\\\\n224 &      66.31 &    1006.30 &        0.1 &        3.1 &      61.91 &    1018.79 &        0.2 &        5.3 &    68.05 &  1009.83 &     10.1 &     10.1 \\\\\\\\\\n225 &      61.91 &    1018.79 &        0.2 &        5.3 &      68.05 &    1009.83 &       10.1 &       10.1 &    63.29 &  1012.78 &      0.2 &      5.4 \\\\\\\\\\n226 &      68.05 &    1009.83 &       10.1 &       10.1 &      63.29 &    1012.78 &        0.2 &        5.4 &    60.19 &   991.67 &      5.1 &      6.3 \\\\\\\\\\n227 &      63.29 &    1012.78 &        0.2 &        5.4 &      60.19 &     991.67 &        5.1 &        6.3 &    61.55 &   984.98 &      3.5 &      4.3 \\\\\\\\\\n228 &      60.19 &     991.67 &        5.1 &        6.3 &      61.55 &     984.98 &        3.5 &        4.3 &    55.60 &   998.05 &      0.1 &      5.3 \\\\\\\\\\n229 &      61.55 &     984.98 &        3.5 &        4.3 &      55.60 &     998.05 &        0.1 &        5.3 &    62.94 &   999.60 &      1.0 &      8.4 \\\\\\\\\\n230 &      55.60 &     998.05 &        0.1 &        5.3 &      62.94 &     999.60 &        1.0 &        8.4 &    59.72 &  1009.77 &      0.1 &      4.3 \\\\\\\\\\n231 &      62.94 &     999.60 &        1.0 &        8.4 &      59.72 &    1009.77 &        0.1 &        4.3 &    58.38 &  1029.45 &      0.0 &      1.7 \\\\\\\\\\n232 &      59.72 &    1009.77 &        0.1 &        4.3 &      58.38 &    1029.45 &        0.0 &        1.7 &    55.30 &  1043.91 &      0.1 &      2.7 \\\\\\\\\\n233 &      58.38 &    1029.45 &        0.0 &        1.7 &      55.30 &    1043.91 &        0.1 &        2.7 &    56.26 &  1045.29 &      0.2 &      5.2 \\\\\\\\\\n234 &      55.30 &    1043.91 &        0.1 &        2.7 &      56.26 &    1045.29 &        0.2 &        5.2 &    67.66 &  1041.13 &      0.0 &      7.2 \\\\\\\\\\n235 &      56.26 &    1045.29 &        0.2 &        5.2 &      67.66 &    1041.13 &        0.0 &        7.2 &    68.72 &  1037.89 &      0.0 &      8.1 \\\\\\\\\\n236 &      67.66 &    1041.13 &        0.0 &        7.2 &      68.72 &    1037.89 &        0.0 &        8.1 &    65.66 &  1030.47 &      0.1 &      6.8 \\\\\\\\\\n237 &      68.72 &    1037.89 &        0.0 &        8.1 &      65.66 &    1030.47 &        0.1 &        6.8 &    66.23 &  1021.74 &      0.0 &      6.1 \\\\\\\\\\n238 &      65.66 &    1030.47 &        0.1 &        6.8 &      66.23 &    1021.74 &        0.0 &        6.1 &    57.74 &  1011.63 &      1.7 &      7.1 \\\\\\\\\\n239 &      66.23 &    1021.74 &        0.0 &        6.1 &      57.74 &    1011.63 &        1.7 &        7.1 &    58.40 &  1000.52 &      0.1 &      6.5 \\\\\\\\\\n240 &      57.74 &    1011.63 &        1.7 &        7.1 &      58.40 &    1000.52 &        0.1 &        6.5 &    53.78 &   990.97 &      0.0 &      4.4 \\\\\\\\\\n241 &      58.40 &    1000.52 &        0.1 &        6.5 &      53.78 &     990.97 &        0.0 &        4.4 &    60.90 &   992.81 &      0.0 &      2.8 \\\\\\\\\\n242 &      53.78 &     990.97 &        0.0 &        4.4 &      60.90 &     992.81 &        0.0 &        2.8 &    61.65 &  1003.21 &      0.0 &      5.6 \\\\\\\\\\n243 &      60.90 &     992.81 &        0.0 &        2.8 &      61.65 &    1003.21 &        0.0 &        5.6 &    60.57 &   997.79 &      1.0 &      9.3 \\\\\\\\\\n244 &      61.65 &    1003.21 &        0.0 &        5.6 &      60.57 &     997.79 &        1.0 &        9.3 &    61.74 &   994.97 &      0.0 &     11.2 \\\\\\\\\\n245 &      60.57 &     997.79 &        1.0 &        9.3 &      61.74 &     994.97 &        0.0 &       11.2 &    57.75 &   998.29 &      2.7 &      7.9 \\\\\\\\\\n246 &      61.74 &     994.97 &        0.0 &       11.2 &      57.75 &     998.29 &        2.7 &        7.9 &    62.43 &  1000.02 &      2.1 &      7.7 \\\\\\\\\\n247 &      57.75 &     998.29 &        2.7 &        7.9 &      62.43 &    1000.02 &        2.1 &        7.7 &    58.26 &  1010.43 &      0.7 &      5.8 \\\\\\\\\\n248 &      62.43 &    1000.02 &        2.1 &        7.7 &      58.26 &    1010.43 &        0.7 &        5.8 &    58.83 &  1026.51 &      0.1 &      4.7 \\\\\\\\\\n249 &      58.26 &    1010.43 &        0.7 &        5.8 &      58.83 &    1026.51 &        0.1 &        4.7 &    56.53 &  1034.38 &      0.0 &      4.4 \\\\\\\\\\n250 &      58.83 &    1026.51 &        0.1 &        4.7 &      56.53 &    1034.38 &        0.0 &        4.4 &    54.25 &  1026.82 &      0.0 &      4.6 \\\\\\\\\\n251 &      56.53 &    1034.38 &        0.0 &        4.4 &      54.25 &    1026.82 &        0.0 &        4.6 &    61.46 &  1007.60 &      0.7 &      7.3 \\\\\\\\\\n252 &      54.25 &    1026.82 &        0.0 &        4.6 &      61.46 &    1007.60 &        0.7 &        7.3 &    58.58 &  1000.12 &     33.1 &      7.1 \\\\\\\\\\n253 &      61.46 &    1007.60 &        0.7 &        7.3 &      58.58 &    1000.12 &       33.1 &        7.1 &    68.72 &   978.51 &      9.2 &      9.3 \\\\\\\\\\n254 &      58.58 &    1000.12 &       33.1 &        7.1 &      68.72 &     978.51 &        9.2 &        9.3 &    61.36 &   991.88 &      2.6 &      3.4 \\\\\\\\\\n255 &      68.72 &     978.51 &        9.2 &        9.3 &      61.36 &     991.88 &        2.6 &        3.4 &    64.44 &  1003.92 &      4.9 &      2.1 \\\\\\\\\\n256 &      61.36 &     991.88 &        2.6 &        3.4 &      64.44 &    1003.92 &        4.9 &        2.1 &    59.78 &  1007.29 &      1.8 &      3.5 \\\\\\\\\\n257 &      64.44 &    1003.92 &        4.9 &        2.1 &      59.78 &    1007.29 &        1.8 &        3.5 &    63.82 &   995.14 &      0.0 &      4.9 \\\\\\\\\\n258 &      59.78 &    1007.29 &        1.8 &        3.5 &      63.82 &     995.14 &        0.0 &        4.9 &    56.31 &  1005.81 &      1.6 &      7.8 \\\\\\\\\\n259 &      63.82 &     995.14 &        0.0 &        4.9 &      56.31 &    1005.81 &        1.6 &        7.8 &    63.05 &   987.31 &     16.4 &      8.7 \\\\\\\\\\n260 &      56.31 &    1005.81 &        1.6 &        7.8 &      63.05 &     987.31 &       16.4 &        8.7 &    58.93 &   982.75 &      3.4 &      5.6 \\\\\\\\\\n261 &      63.05 &     987.31 &       16.4 &        8.7 &      58.93 &     982.75 &        3.4 &        5.6 &    57.43 &  1001.83 &      6.5 &      5.1 \\\\\\\\\\n262 &      58.93 &     982.75 &        3.4 &        5.6 &      57.43 &    1001.83 &        6.5 &        5.1 &    64.69 &  1011.96 &      2.7 &      4.1 \\\\\\\\\\n263 &      57.43 &    1001.83 &        6.5 &        5.1 &      64.69 &    1011.96 &        2.7 &        4.1 &    66.68 &  1009.73 &      8.2 &      6.6 \\\\\\\\\\n264 &      64.69 &    1011.96 &        2.7 &        4.1 &      66.68 &    1009.73 &        8.2 &        6.6 &    62.34 &  1005.74 &      0.7 &      5.9 \\\\\\\\\\n265 &      66.68 &    1009.73 &        8.2 &        6.6 &      62.34 &    1005.74 &        0.7 &        5.9 &    63.04 &  1009.17 &      5.7 &      8.5 \\\\\\\\\\n266 &      62.34 &    1005.74 &        0.7 &        5.9 &      63.04 &    1009.17 &        5.7 &        8.5 &    62.45 &  1010.12 &      9.5 &      7.3 \\\\\\\\\\n267 &      63.04 &    1009.17 &        5.7 &        8.5 &      62.45 &    1010.12 &        9.5 &        7.3 &    60.05 &  1013.98 &     17.1 &      5.9 \\\\\\\\\\n268 &      62.45 &    1010.12 &        9.5 &        7.3 &      60.05 &    1013.98 &       17.1 &        5.9 &    66.27 &  1001.99 &      0.7 &      7.1 \\\\\\\\\\n269 &      60.05 &    1013.98 &       17.1 &        5.9 &      66.27 &    1001.99 &        0.7 &        7.1 &    63.25 &   997.38 &      2.5 &      2.8 \\\\\\\\\\n270 &      66.27 &    1001.99 &        0.7 &        7.1 &      63.25 &     997.38 &        2.5 &        2.8 &    59.15 &  1003.42 &      0.1 &      3.2 \\\\\\\\\\n271 &      63.25 &     997.38 &        2.5 &        2.8 &      59.15 &    1003.42 &        0.1 &        3.2 &    53.49 &  1004.84 &      2.1 &      3.6 \\\\\\\\\\n272 &      59.15 &    1003.42 &        0.1 &        3.2 &      53.49 &    1004.84 &        2.1 &        3.6 &    62.55 &   991.20 &      2.6 &      8.6 \\\\\\\\\\n273 &      53.49 &    1004.84 &        2.1 &        3.6 &      62.55 &     991.20 &        2.6 &        8.6 &    58.86 &   973.68 &      3.8 &      4.5 \\\\\\\\\\n274 &      62.55 &     991.20 &        2.6 &        8.6 &      58.86 &     973.68 &        3.8 &        4.5 &    57.22 &   980.32 &      0.7 &      3.9 \\\\\\\\\\n275 &      58.86 &     973.68 &        3.8 &        4.5 &      57.22 &     980.32 &        0.7 &        3.9 &    56.07 &   987.96 &      1.2 &      3.3 \\\\\\\\\\n276 &      57.22 &     980.32 &        0.7 &        3.9 &      56.07 &     987.96 &        1.2 &        3.3 &    53.48 &  1000.46 &      0.0 &      4.9 \\\\\\\\\\n277 &      56.07 &     987.96 &        1.2 &        3.3 &      53.48 &    1000.46 &        0.0 &        4.9 &    50.33 &  1004.84 &      0.0 &      2.9 \\\\\\\\\\n278 &      53.48 &    1000.46 &        0.0 &        4.9 &      50.33 &    1004.84 &        0.0 &        2.9 &    55.47 &   999.29 &      0.6 &      1.9 \\\\\\\\\\n279 &      50.33 &    1004.84 &        0.0 &        2.9 &      55.47 &     999.29 &        0.6 &        1.9 &    56.85 &  1004.66 &      0.0 &      4.4 \\\\\\\\\\n280 &      55.47 &     999.29 &        0.6 &        1.9 &      56.85 &    1004.66 &        0.0 &        4.4 &    62.71 &  1002.70 &      1.1 &     10.0 \\\\\\\\\\n281 &      56.85 &    1004.66 &        0.0 &        4.4 &      62.71 &    1002.70 &        1.1 &       10.0 &    59.26 &   997.97 &      2.1 &      6.8 \\\\\\\\\\n282 &      62.71 &    1002.70 &        1.1 &       10.0 &      59.26 &     997.97 &        2.1 &        6.8 &    68.37 &  1003.48 &      8.3 &      7.4 \\\\\\\\\\n283 &      59.26 &     997.97 &        2.1 &        6.8 &      68.37 &    1003.48 &        8.3 &        7.4 &    63.51 &   999.17 &      1.8 &      9.6 \\\\\\\\\\n284 &      68.37 &    1003.48 &        8.3 &        7.4 &      63.51 &     999.17 &        1.8 &        9.6 &    61.24 &  1000.09 &      6.2 &      6.7 \\\\\\\\\\n285 &      63.51 &     999.17 &        1.8 &        9.6 &      61.24 &    1000.09 &        6.2 &        6.7 &    61.05 &  1002.80 &      2.5 &      4.2 \\\\\\\\\\n286 &      61.24 &    1000.09 &        6.2 &        6.7 &      61.05 &    1002.80 &        2.5 &        4.2 &    60.53 &  1012.39 &      0.3 &      6.4 \\\\\\\\\\n287 &      61.05 &    1002.80 &        2.5 &        4.2 &      60.53 &    1012.39 &        0.3 &        6.4 &    63.10 &  1003.24 &      2.1 &      8.4 \\\\\\\\\\n288 &      60.53 &    1012.39 &        0.3 &        6.4 &      63.10 &    1003.24 &        2.1 &        8.4 &    52.90 &  1004.35 &      0.0 &      6.4 \\\\\\\\\\n289 &      63.10 &    1003.24 &        2.1 &        8.4 &      52.90 &    1004.35 &        0.0 &        6.4 &    55.13 &  1016.44 &      0.1 &      5.9 \\\\\\\\\\n290 &      52.90 &    1004.35 &        0.0 &        6.4 &      55.13 &    1016.44 &        0.1 &        5.9 &    61.49 &  1016.91 &      3.7 &     10.4 \\\\\\\\\\n291 &      55.13 &    1016.44 &        0.1 &        5.9 &      61.49 &    1016.91 &        3.7 &       10.4 &    56.78 &  1023.22 &      0.0 &      5.7 \\\\\\\\\\n292 &      61.49 &    1016.91 &        3.7 &       10.4 &      56.78 &    1023.22 &        0.0 &        5.7 &    49.44 &  1028.77 &      0.0 &      2.9 \\\\\\\\\\n293 &      56.78 &    1023.22 &        0.0 &        5.7 &      49.44 &    1028.77 &        0.0 &        2.9 &    48.92 &  1031.18 &      0.0 &      3.9 \\\\\\\\\\n294 &      49.44 &    1028.77 &        0.0 &        2.9 &      48.92 &    1031.18 &        0.0 &        3.9 &    47.26 &  1024.61 &      0.0 &      5.9 \\\\\\\\\\n295 &      48.92 &    1031.18 &        0.0 &        3.9 &      47.26 &    1024.61 &        0.0 &        5.9 &    42.59 &  1025.19 &      0.0 &      5.4 \\\\\\\\\\n296 &      47.26 &    1024.61 &        0.0 &        5.9 &      42.59 &    1025.19 &        0.0 &        5.4 &    44.55 &  1020.79 &      0.0 &      7.8 \\\\\\\\\\n297 &      42.59 &    1025.19 &        0.0 &        5.4 &      44.55 &    1020.79 &        0.0 &        7.8 &    45.72 &  1016.86 &      0.0 &      9.6 \\\\\\\\\\n298 &      44.55 &    1020.79 &        0.0 &        7.8 &      45.72 &    1016.86 &        0.0 &        9.6 &    46.60 &  1020.01 &      0.0 &      9.4 \\\\\\\\\\n299 &      45.72 &    1016.86 &        0.0 &        9.6 &      46.60 &    1020.01 &        0.0 &        9.4 &    52.41 &  1024.16 &      0.0 &      7.0 \\\\\\\\\\n300 &      46.60 &    1020.01 &        0.0 &        9.4 &      52.41 &    1024.16 &        0.0 &        7.0 &    59.08 &  1027.41 &      0.0 &      7.2 \\\\\\\\\\n301 &      52.41 &    1024.16 &        0.0 &        7.0 &      59.08 &    1027.41 &        0.0 &        7.2 &    47.66 &  1035.65 &      0.0 &      7.1 \\\\\\\\\\n302 &      59.08 &    1027.41 &        0.0 &        7.2 &      47.66 &    1035.65 &        0.0 &        7.1 &    39.23 &  1045.31 &      0.0 &      3.6 \\\\\\\\\\n303 &      47.66 &    1035.65 &        0.0 &        7.1 &      39.23 &    1045.31 &        0.0 &        3.6 &    54.79 &  1039.26 &      0.0 &      4.7 \\\\\\\\\\n304 &      39.23 &    1045.31 &        0.0 &        3.6 &      54.79 &    1039.26 &        0.0 &        4.7 &    51.81 &  1034.18 &      0.0 &      6.4 \\\\\\\\\\n305 &      54.79 &    1039.26 &        0.0 &        4.7 &      51.81 &    1034.18 &        0.0 &        6.4 &    50.10 &  1024.91 &      0.2 &      7.1 \\\\\\\\\\n306 &      51.81 &    1034.18 &        0.0 &        6.4 &      50.10 &    1024.91 &        0.2 &        7.1 &    59.63 &  1016.26 &      0.9 &      8.3 \\\\\\\\\\n307 &      50.10 &    1024.91 &        0.2 &        7.1 &      59.63 &    1016.26 &        0.9 &        8.3 &    53.62 &  1015.45 &      0.3 &      8.1 \\\\\\\\\\n308 &      59.63 &    1016.26 &        0.9 &        8.3 &      53.62 &    1015.45 &        0.3 &        8.1 &    49.42 &  1012.43 &      0.0 &      9.2 \\\\\\\\\\n309 &      53.62 &    1015.45 &        0.3 &        8.1 &      49.42 &    1012.43 &        0.0 &        9.2 &    56.48 &  1001.17 &      1.2 &     10.9 \\\\\\\\\\n310 &      49.42 &    1012.43 &        0.0 &        9.2 &      56.48 &    1001.17 &        1.2 &       10.9 &    46.50 &  1012.84 &      0.1 &     10.1 \\\\\\\\\\n311 &      56.48 &    1001.17 &        1.2 &       10.9 &      46.50 &    1012.84 &        0.1 &       10.1 &    40.19 &  1024.91 &      0.0 &      8.5 \\\\\\\\\\n312 &      46.50 &    1012.84 &        0.1 &       10.1 &      40.19 &    1024.91 &        0.0 &        8.5 &    42.06 &  1023.37 &      0.0 &      9.9 \\\\\\\\\\n313 &      40.19 &    1024.91 &        0.0 &        8.5 &      42.06 &    1023.37 &        0.0 &        9.9 &    51.50 &  1022.90 &      0.0 &      8.2 \\\\\\\\\\n314 &      42.06 &    1023.37 &        0.0 &        9.9 &      51.50 &    1022.90 &        0.0 &        8.2 &    50.08 &  1020.26 &      0.0 &     12.2 \\\\\\\\\\n315 &      51.50 &    1022.90 &        0.0 &        8.2 &      50.08 &    1020.26 &        0.0 &       12.2 &    44.66 &  1020.55 &      0.1 &     13.5 \\\\\\\\\\n316 &      50.08 &    1020.26 &        0.0 &       12.2 &      44.66 &    1020.55 &        0.1 &       13.5 &    52.07 &  1014.93 &      0.4 &      9.2 \\\\\\\\\\n317 &      44.66 &    1020.55 &        0.1 &       13.5 &      52.07 &    1014.93 &        0.4 &        9.2 &    43.40 &  1028.11 &      0.0 &      6.2 \\\\\\\\\\n318 &      52.07 &    1014.93 &        0.4 &        9.2 &      43.40 &    1028.11 &        0.0 &        6.2 &    41.64 &  1027.07 &      0.0 &      5.7 \\\\\\\\\\n319 &      43.40 &    1028.11 &        0.0 &        6.2 &      41.64 &    1027.07 &        0.0 &        5.7 &    39.60 &  1018.71 &      0.0 &      7.2 \\\\\\\\\\n320 &      41.64 &    1027.07 &        0.0 &        5.7 &      39.60 &    1018.71 &        0.0 &        7.2 &    48.09 &  1015.33 &      0.0 &      8.4 \\\\\\\\\\n321 &      39.60 &    1018.71 &        0.0 &        7.2 &      48.09 &    1015.33 &        0.0 &        8.4 &    47.51 &  1014.73 &      2.4 &      9.9 \\\\\\\\\\n322 &      48.09 &    1015.33 &        0.0 &        8.4 &      47.51 &    1014.73 &        2.4 &        9.9 &    59.99 &  1017.04 &      1.9 &      8.0 \\\\\\\\\\n323 &      47.51 &    1014.73 &        2.4 &        9.9 &      59.99 &    1017.04 &        1.9 &        8.0 &    54.41 &  1019.96 &      0.0 &      8.2 \\\\\\\\\\n324 &      59.99 &    1017.04 &        1.9 &        8.0 &      54.41 &    1019.96 &        0.0 &        8.2 &    45.18 &  1019.92 &      0.0 &      8.3 \\\\\\\\\\n325 &      54.41 &    1019.96 &        0.0 &        8.2 &      45.18 &    1019.92 &        0.0 &        8.3 &    44.55 &  1019.76 &      0.0 &     10.0 \\\\\\\\\\n326 &      45.18 &    1019.92 &        0.0 &        8.3 &      44.55 &    1019.76 &        0.0 &       10.0 &    47.68 &  1022.16 &      0.0 &      9.8 \\\\\\\\\\n327 &      44.55 &    1019.76 &        0.0 &       10.0 &      47.68 &    1022.16 &        0.0 &        9.8 &    48.23 &  1019.97 &      0.0 &      9.3 \\\\\\\\\\n328 &      47.68 &    1022.16 &        0.0 &        9.8 &      48.23 &    1019.97 &        0.0 &        9.3 &    49.56 &  1014.76 &      0.0 &      8.7 \\\\\\\\\\n329 &      48.23 &    1019.97 &        0.0 &        9.3 &      49.56 &    1014.76 &        0.0 &        8.7 &    44.79 &  1012.23 &      0.0 &     10.7 \\\\\\\\\\n330 &      49.56 &    1014.76 &        0.0 &        8.7 &      44.79 &    1012.23 &        0.0 &       10.7 &    55.08 &  1010.77 &      0.1 &      9.2 \\\\\\\\\\n331 &      44.79 &    1012.23 &        0.0 &       10.7 &      55.08 &    1010.77 &        0.1 &        9.2 &    45.37 &  1008.23 &      0.0 &      7.7 \\\\\\\\\\n332 &      55.08 &    1010.77 &        0.1 &        9.2 &      45.37 &    1008.23 &        0.0 &        7.7 &    48.15 &  1004.50 &      0.0 &      6.4 \\\\\\\\\\n333 &      45.37 &    1008.23 &        0.0 &        7.7 &      48.15 &    1004.50 &        0.0 &        6.4 &    55.46 &   993.51 &      5.6 &      8.3 \\\\\\\\\\n334 &      48.15 &    1004.50 &        0.0 &        6.4 &      55.46 &     993.51 &        5.6 &        8.3 &    62.51 &   988.26 &      0.6 &      7.7 \\\\\\\\\\n335 &      55.46 &     993.51 &        5.6 &        8.3 &      62.51 &     988.26 &        0.6 &        7.7 &    52.36 &   998.68 &      0.6 &      7.8 \\\\\\\\\\n336 &      62.51 &     988.26 &        0.6 &        7.7 &      52.36 &     998.68 &        0.6 &        7.8 &    48.70 &  1010.27 &      0.0 &      8.8 \\\\\\\\\\n337 &      52.36 &     998.68 &        0.6 &        7.8 &      48.70 &    1010.27 &        0.0 &        8.8 &    41.31 &  1015.24 &      0.0 &      9.0 \\\\\\\\\\n338 &      48.70 &    1010.27 &        0.0 &        8.8 &      41.31 &    1015.24 &        0.0 &        9.0 &    44.47 &  1019.41 &      0.0 &      9.2 \\\\\\\\\\n339 &      41.31 &    1015.24 &        0.0 &        9.0 &      44.47 &    1019.41 &        0.0 &        9.2 &    45.02 &  1019.65 &      0.0 &      9.7 \\\\\\\\\\n340 &      44.47 &    1019.41 &        0.0 &        9.2 &      45.02 &    1019.65 &        0.0 &        9.7 &    43.29 &  1022.61 &      1.7 &      9.7 \\\\\\\\\\n341 &      45.02 &    1019.65 &        0.0 &        9.7 &      43.29 &    1022.61 &        1.7 &        9.7 &    51.85 &  1018.08 &      0.1 &     13.1 \\\\\\\\\\n342 &      43.29 &    1022.61 &        1.7 &        9.7 &      51.85 &    1018.08 &        0.1 &       13.1 &    48.65 &  1016.02 &      0.0 &     13.5 \\\\\\\\\\n343 &      51.85 &    1018.08 &        0.1 &       13.1 &      48.65 &    1016.02 &        0.0 &       13.5 &    47.91 &  1012.47 &      0.0 &     12.8 \\\\\\\\\\n344 &      48.65 &    1016.02 &        0.0 &       13.5 &      47.91 &    1012.47 &        0.0 &       12.8 &    49.25 &  1016.06 &      0.0 &      8.7 \\\\\\\\\\n345 &      47.91 &    1012.47 &        0.0 &       12.8 &      49.25 &    1016.06 &        0.0 &        8.7 &    33.71 &  1025.85 &      0.0 &      6.0 \\\\\\\\\\n346 &      49.25 &    1016.06 &        0.0 &        8.7 &      33.71 &    1025.85 &        0.0 &        6.0 &    41.33 &  1021.37 &      0.0 &      7.6 \\\\\\\\\\n347 &      33.71 &    1025.85 &        0.0 &        6.0 &      41.33 &    1021.37 &        0.0 &        7.6 &    40.19 &  1020.23 &      0.0 &      6.4 \\\\\\\\\\n348 &      41.33 &    1021.37 &        0.0 &        7.6 &      40.19 &    1020.23 &        0.0 &        6.4 &    38.59 &  1024.14 &      0.0 &      6.7 \\\\\\\\\\n349 &      40.19 &    1020.23 &        0.0 &        6.4 &      38.59 &    1024.14 &        0.0 &        6.7 &    43.78 &  1025.38 &      0.0 &      8.8 \\\\\\\\\\n350 &      38.59 &    1024.14 &        0.0 &        6.7 &      43.78 &    1025.38 &        0.0 &        8.8 &    44.37 &  1023.22 &      0.0 &     10.9 \\\\\\\\\\n351 &      43.78 &    1025.38 &        0.0 &        8.8 &      44.37 &    1023.22 &        0.0 &       10.9 &    51.25 &  1020.02 &      0.7 &     12.9 \\\\\\\\\\n352 &      44.37 &    1023.22 &        0.0 &       10.9 &      51.25 &    1020.02 &        0.7 &       12.9 &    57.64 &  1018.74 &      0.2 &     13.5 \\\\\\\\\\n353 &      51.25 &    1020.02 &        0.7 &       12.9 &      57.64 &    1018.74 &        0.2 &       13.5 &    51.24 &  1019.46 &      0.0 &     15.7 \\\\\\\\\\n354 &      57.64 &    1018.74 &        0.2 &       13.5 &      51.24 &    1019.46 &        0.0 &       15.7 &    44.19 &  1016.37 &      0.3 &     14.7 \\\\\\\\\\n355 &      51.24 &    1019.46 &        0.0 &       15.7 &      44.19 &    1016.37 &        0.3 &       14.7 &    51.53 &  1014.55 &      2.3 &     12.7 \\\\\\\\\\n356 &      44.19 &    1016.37 &        0.3 &       14.7 &      51.53 &    1014.55 &        2.3 &       12.7 &    49.20 &  1003.40 &      1.5 &     12.6 \\\\\\\\\\n357 &      51.53 &    1014.55 &        2.3 &       12.7 &      49.20 &    1003.40 &        1.5 &       12.6 &    51.92 &  1015.19 &      0.7 &     11.4 \\\\\\\\\\n358 &      49.20 &    1003.40 &        1.5 &       12.6 &      51.92 &    1015.19 &        0.7 &       11.4 &    45.17 &  1027.65 &      0.0 &     14.2 \\\\\\\\\\n359 &      51.92 &    1015.19 &        0.7 &       11.4 &      45.17 &    1027.65 &        0.0 &       14.2 &    42.47 &  1030.56 &      0.0 &     12.8 \\\\\\\\\\n360 &      45.17 &    1027.65 &        0.0 &       14.2 &      42.47 &    1030.56 &        0.0 &       12.8 &    49.00 &  1034.91 &      0.0 &     14.8 \\\\\\\\\\n361 &      42.47 &    1030.56 &        0.0 &       12.8 &      49.00 &    1034.91 &        0.0 &       14.8 &    46.47 &  1035.27 &      0.0 &     13.9 \\\\\\\\\\n362 &      49.00 &    1034.91 &        0.0 &       14.8 &      46.47 &    1035.27 &        0.0 &       13.9 &    44.68 &  1029.93 &      0.0 &     15.3 \\\\\\\\\\n363 &      46.47 &    1035.27 &        0.0 &       13.9 &      44.68 &    1029.93 &        0.0 &       15.3 &    37.91 &  1023.37 &      0.0 &     15.8 \\\\\\\\\\n364 &      44.68 &    1029.93 &        0.0 &       15.3 &      37.91 &    1023.37 &        0.0 &       15.8 &    37.19 &  1020.37 &      0.0 &     14.9 \\\\\\\\\\n365 &      37.91 &    1023.37 &        0.0 &       15.8 &      37.19 &    1020.37 &        0.0 &       14.9 &    39.92 &  1020.93 &      0.0 &     14.6 \\\\\\\\\\n366 &      37.19 &    1020.37 &        0.0 &       14.9 &      39.92 &    1020.93 &        0.0 &       14.6 &    42.96 &  1023.08 &      0.0 &     14.4 \\\\\\\\\\n\\\\bottomrule\\n\\\\end{tabular}\\n'"
            ]
          },
          "execution_count": null,
          "metadata": {},
          "output_type": "execute_result"
        }
      ],
      "source": [
        "df_raw = series_to_supervised(values,2,1)\n",
        "df_raw"
      ]
    },
    {
      "cell_type": "markdown",
      "metadata": {
        "id": "fAJ3Dg7eUs_l"
      },
      "source": [
        "####enhanced data"
      ]
    },
    {
      "cell_type": "code",
      "execution_count": null,
      "metadata": {
        "id": "koSEQb0YDpqH"
      },
      "outputs": [],
      "source": [
        "df_raw = series_to_supervised(values,2,1).drop(columns=['var1(t)', 'var2(t)','var4(t)'])\n",
        "df_raw['var3(t)'] = df_raw['var3(t)'].map(prcp_map)\n",
        "label_binarizer = preprocessing.LabelBinarizer()\n",
        "y = label_binarizer.fit_transform(df_raw['var3(t)']).ravel()\n",
        "X = df_raw.drop(columns='var3(t)')\n",
        "X_train, X_test, y_train, y_test =  train_test_split(X,y, test_size=0.33, stratify=y, random_state=42)"
      ]
    },
    {
      "cell_type": "markdown",
      "metadata": {
        "id": "eW-j__jvUyCT"
      },
      "source": [
        "####only noaa"
      ]
    },
    {
      "cell_type": "code",
      "execution_count": null,
      "metadata": {
        "id": "NdNM5-3tSccG"
      },
      "outputs": [],
      "source": [
        "df_raw= series_to_supervised(values,2,1).drop(columns=['var1(t-2)', 'var2(t-2)', 'var1(t-1)', 'var2(t-1)','var1(t)', 'var2(t)', 'var4(t)'])\n",
        "df_raw['var3(t)'] = df_raw['var3(t)'].map(prcp_map)\n",
        "label_binarizer = preprocessing.LabelBinarizer()\n",
        "y = label_binarizer.fit_transform(df_raw['var3(t)']).ravel()\n",
        "X = df_raw.drop(columns='var3(t)')\n",
        "X_train, X_test, y_train, y_test =  train_test_split(X,y, test_size=0.33, stratify=y, random_state=42)"
      ]
    },
    {
      "cell_type": "markdown",
      "metadata": {
        "id": "MuuLTMdiAdbA"
      },
      "source": [
        "####create training set"
      ]
    },
    {
      "cell_type": "code",
      "execution_count": null,
      "metadata": {
        "id": "l2qv1x5vATQ0"
      },
      "outputs": [],
      "source": [
        "label_binarizer = preprocessing.LabelBinarizer()\n",
        "y = label_binarizer.fit_transform(df_raw['var3(t)']).ravel()\n",
        "X = df_raw.drop(columns='var3(t)')\n",
        "X_train, X_test, y_train, y_test =  train_test_split(X,y, test_size=0.33, stratify=y, random_state=42)"
      ]
    },
    {
      "cell_type": "markdown",
      "metadata": {
        "id": "KQTDOdRQLGoZ"
      },
      "source": [
        "###Build the model"
      ]
    },
    {
      "cell_type": "markdown",
      "metadata": {
        "id": "xRf2XXyl240O"
      },
      "source": [
        "####Set the plot"
      ]
    },
    {
      "cell_type": "code",
      "execution_count": null,
      "metadata": {
        "colab": {
          "base_uri": "https://localhost:8080/",
          "height": 405
        },
        "id": "IB-Zi9Xh29X7",
        "outputId": "3ca78c12-77aa-49c9-81a9-11c83d5bed40"
      },
      "outputs": [
        {
          "data": {
            "image/png": "[encoded data removed]",
            "text/plain": [
              "<Figure size 864x432 with 6 Axes>"
            ]
          },
          "metadata": {},
          "output_type": "display_data"
        }
      ],
      "source": [
        "fig, axes = plt.subplots(2, 3, sharex=True, sharey=True, figsize=(12, 6))\n",
        "fig.text(0.43, 0.03, 'Predicted label', ha='center',fontdict={'fontsize': 16})\n",
        "fig.text(0.06, 0.5, 'True label', va='center', rotation='vertical', fontdict={'fontsize': 16})\n",
        "\n",
        "plt.subplots_adjust(wspace=0.075, \n",
        "                    hspace=0.3)\n"
      ]
    },
    {
      "cell_type": "markdown",
      "metadata": {
        "id": "EBWp9xOEnLpE"
      },
      "source": [
        "####Random Forest Classifier"
      ]
    },
    {
      "cell_type": "markdown",
      "metadata": {
        "id": "5ukkd3WwvYvV"
      },
      "source": [
        "#####NOAA & Link-Climate"
      ]
    },
    {
      "cell_type": "code",
      "execution_count": null,
      "metadata": {
        "colab": {
          "base_uri": "https://localhost:8080/",
          "height": 577
        },
        "id": "WVX9lICKLMLj",
        "outputId": "a746977f-a3bd-4692-d1cf-15d7d46c4f39"
      },
      "outputs": [
        {
          "name": "stdout",
          "output_type": "stream",
          "text": [
            "              precision    recall  f1-score   support\n",
            "\n",
            "          no       0.70      0.64      0.67        50\n",
            "         yes       0.76      0.80      0.78        71\n",
            "\n",
            "    accuracy                           0.74       121\n",
            "   macro avg       0.73      0.72      0.72       121\n",
            "weighted avg       0.73      0.74      0.73       121\n",
            "\n"
          ]
        },
        {
          "data": {
            "image/png": "[encoded data removed]",
            "text/plain": [
              "<Figure size 864x432 with 6 Axes>"
            ]
          },
          "execution_count": 18,
          "metadata": {},
          "output_type": "execute_result"
        }
      ],
      "source": [
        "# clf = RandomForestClassifier(random_state=1235).fit(X_train, y_train)\n",
        "# y_pred = clf.predict(X_test)\n",
        "\n",
        "# print(classification_report(y_test, y_pred, target_names=label_binarizer.classes_))\n",
        "# ConfusionMatrixDisplay(confusion_matrix=confusion_matrix(y_test, y_pred), display_labels=label_binarizer.classes_).plot()\n",
        "# plt.show()\n",
        "\n",
        "clf = RandomForestClassifier(random_state=1235).fit(X_train, y_train)\n",
        "y_pred = clf.predict(X_test)\n",
        "\n",
        "print(classification_report(y_test, y_pred, target_names=label_binarizer.classes_))\n",
        "disp = ConfusionMatrixDisplay(confusion_matrix=confusion_matrix(y_test, y_pred, normalize=\"true\"), display_labels=label_binarizer.classes_)\n",
        "disp.plot(ax=axes[1,0],cmap='Purples')\n",
        "disp.ax_.get_images()[0].set_clim(0,1)\n",
        "disp.ax_.set_title('RF (NOAA+Link Climate KG)',fontdict={'fontsize': 10})\n",
        "disp.im_.colorbar.remove()\n",
        "disp.ax_.set_xlabel('')\n",
        "disp.ax_.set_ylabel('')\n",
        "\n",
        "\n",
        "# fig.colorbar(disp.im_, ax=axes)\n",
        "\n",
        "fig"
      ]
    },
    {
      "cell_type": "markdown",
      "metadata": {
        "id": "XntO0EOLvdFu"
      },
      "source": [
        "#####NOAA"
      ]
    },
    {
      "cell_type": "code",
      "execution_count": null,
      "metadata": {
        "colab": {
          "base_uri": "https://localhost:8080/",
          "height": 577
        },
        "id": "YBYx7esMtiwz",
        "outputId": "bee6a7af-e9cb-4d28-c031-4fc908df0fe7"
      },
      "outputs": [
        {
          "name": "stdout",
          "output_type": "stream",
          "text": [
            "              precision    recall  f1-score   support\n",
            "\n",
            "          no       0.51      0.54      0.52        50\n",
            "         yes       0.66      0.63      0.65        71\n",
            "\n",
            "    accuracy                           0.60       121\n",
            "   macro avg       0.59      0.59      0.59       121\n",
            "weighted avg       0.60      0.60      0.60       121\n",
            "\n"
          ]
        },
        {
          "data": {
            "image/png": "[encoded data removed]",
            "text/plain": [
              "<Figure size 864x432 with 6 Axes>"
            ]
          },
          "execution_count": 14,
          "metadata": {},
          "output_type": "execute_result"
        }
      ],
      "source": [
        "clf = RandomForestClassifier(random_state=1235).fit(X_train, y_train)\n",
        "y_pred = clf.predict(X_test)\n",
        "\n",
        "print(classification_report(y_test, y_pred, target_names=label_binarizer.classes_))\n",
        "disp = ConfusionMatrixDisplay(confusion_matrix=confusion_matrix(y_test, y_pred, normalize=\"true\"), display_labels=label_binarizer.classes_)\n",
        "disp.plot(ax=axes[0,0],cmap='Purples')\n",
        "disp.ax_.get_images()[0].set_clim(0,1)\n",
        "disp.ax_.set_title('RF (NOAA)',fontdict={'fontsize': 10})\n",
        "disp.im_.colorbar.remove()\n",
        "disp.ax_.set_xlabel('')\n",
        "disp.ax_.set_ylabel('')\n",
        "\n",
        "# plt.subplots_adjust(wspace=0.40, hspace=0.1)\n",
        "# fig.colorbar(disp.im_, ax=axes)\n",
        "\n",
        "fig"
      ]
    },
    {
      "cell_type": "markdown",
      "metadata": {
        "id": "IejiTHPenWQ7"
      },
      "source": [
        "####Support Vector Classifier"
      ]
    },
    {
      "cell_type": "markdown",
      "metadata": {
        "id": "NhtC-yDrq1rN"
      },
      "source": [
        "#####NOAA & Link-Climate"
      ]
    },
    {
      "cell_type": "code",
      "execution_count": null,
      "metadata": {
        "colab": {
          "base_uri": "https://localhost:8080/",
          "height": 577
        },
        "id": "WQ-e8PZmnZwk",
        "outputId": "c95cc9eb-b5c8-41a2-8617-1f3b5de94e44"
      },
      "outputs": [
        {
          "name": "stdout",
          "output_type": "stream",
          "text": [
            "              precision    recall  f1-score   support\n",
            "\n",
            "          no       0.67      0.48      0.56        50\n",
            "         yes       0.69      0.83      0.76        71\n",
            "\n",
            "    accuracy                           0.69       121\n",
            "   macro avg       0.68      0.66      0.66       121\n",
            "weighted avg       0.68      0.69      0.67       121\n",
            "\n"
          ]
        },
        {
          "data": {
            "image/png": "[encoded data removed]",
            "text/plain": [
              "<Figure size 864x432 with 6 Axes>"
            ]
          },
          "execution_count": 19,
          "metadata": {},
          "output_type": "execute_result"
        }
      ],
      "source": [
        "clf = SVC(gamma=0.01)\n",
        "clf.fit(X_train, y_train)\n",
        "y_pred = clf.predict(X_test)\n",
        "\n",
        "print(classification_report(y_test, y_pred, target_names=label_binarizer.classes_))\n",
        "disp = ConfusionMatrixDisplay(confusion_matrix=confusion_matrix(y_test, y_pred, normalize=\"true\"), display_labels=label_binarizer.classes_)\n",
        "disp.plot(ax=axes[1,1],cmap='Purples')\n",
        "disp.ax_.get_images()[0].set_clim(0,1)\n",
        "disp.ax_.set_title('SVC (NOAA+Link Climate KG)',fontdict={'fontsize': 10})\n",
        "disp.im_.colorbar.remove()\n",
        "disp.ax_.set_xlabel('')\n",
        "disp.ax_.set_ylabel('')\n",
        "\n",
        "\n",
        "# fig.colorbar(disp.im_, ax=axes)\n",
        "\n",
        "fig"
      ]
    },
    {
      "cell_type": "markdown",
      "metadata": {
        "id": "Bb68oxIZq7tl"
      },
      "source": [
        "#####NOAA"
      ]
    },
    {
      "cell_type": "code",
      "execution_count": null,
      "metadata": {
        "colab": {
          "base_uri": "https://localhost:8080/",
          "height": 577
        },
        "id": "aaocGW3uq-Ml",
        "outputId": "272778ce-4ad0-4d62-dd5f-cebb388adbfc"
      },
      "outputs": [
        {
          "name": "stdout",
          "output_type": "stream",
          "text": [
            "              precision    recall  f1-score   support\n",
            "\n",
            "          no       0.54      0.44      0.48        50\n",
            "         yes       0.65      0.73      0.69        71\n",
            "\n",
            "    accuracy                           0.61       121\n",
            "   macro avg       0.59      0.59      0.59       121\n",
            "weighted avg       0.60      0.61      0.60       121\n",
            "\n"
          ]
        },
        {
          "data": {
            "image/png": "[encoded data removed]",
            "text/plain": [
              "<Figure size 864x432 with 6 Axes>"
            ]
          },
          "execution_count": 15,
          "metadata": {},
          "output_type": "execute_result"
        }
      ],
      "source": [
        "clf = SVC(gamma=0.01)\n",
        "clf.fit(X_train, y_train)\n",
        "y_pred = clf.predict(X_test)\n",
        "\n",
        "print(classification_report(y_test, y_pred, target_names=label_binarizer.classes_))\n",
        "disp = ConfusionMatrixDisplay(confusion_matrix=confusion_matrix(y_test, y_pred, normalize=\"true\"), display_labels=label_binarizer.classes_)\n",
        "disp.plot(ax=axes[0,1],cmap='Purples')\n",
        "disp.ax_.get_images()[0].set_clim(0,1)\n",
        "disp.ax_.set_title('SVC (NOAA)', fontdict={'fontsize': 10})\n",
        "disp.im_.colorbar.remove()\n",
        "disp.ax_.set_xlabel('')\n",
        "disp.ax_.set_ylabel('')\n",
        "\n",
        "# plt.subplots_adjust(wspace=0.40, hspace=0.1)\n",
        "# fig.colorbar(disp.im_, ax=axes)\n",
        "\n",
        "fig"
      ]
    },
    {
      "cell_type": "markdown",
      "metadata": {
        "id": "Xc2FuTdFT2H8"
      },
      "source": [
        "####KNN-Classifier"
      ]
    },
    {
      "cell_type": "markdown",
      "metadata": {
        "id": "FadQL1axVIYt"
      },
      "source": [
        "#####NOAA & Link-Climate"
      ]
    },
    {
      "cell_type": "code",
      "execution_count": null,
      "metadata": {
        "colab": {
          "base_uri": "https://localhost:8080/",
          "height": 574
        },
        "id": "pXGQ_jQUUdud",
        "outputId": "3e097c33-efa9-465f-d0b5-34a05a4bc264"
      },
      "outputs": [
        {
          "name": "stdout",
          "output_type": "stream",
          "text": [
            "              precision    recall  f1-score   support\n",
            "\n",
            "          no       0.58      0.74      0.65        50\n",
            "         yes       0.77      0.62      0.69        71\n",
            "\n",
            "    accuracy                           0.67       121\n",
            "   macro avg       0.68      0.68      0.67       121\n",
            "weighted avg       0.69      0.67      0.67       121\n",
            "\n"
          ]
        },
        {
          "data": {
            "image/png": "[encoded data removed]",
            "text/plain": [
              "<Figure size 864x432 with 7 Axes>"
            ]
          },
          "execution_count": 20,
          "metadata": {},
          "output_type": "execute_result"
        }
      ],
      "source": [
        "clf = KNeighborsClassifier(n_neighbors=4)\n",
        "clf.fit(X_train, y_train)\n",
        "y_pred = clf.predict(X_test)\n",
        "\n",
        "print(classification_report(y_test, y_pred, target_names=label_binarizer.classes_))\n",
        "disp = ConfusionMatrixDisplay(confusion_matrix=confusion_matrix(y_test, y_pred, normalize=\"true\"), display_labels=label_binarizer.classes_)\n",
        "disp.plot(ax=axes[1,2],cmap='Purples')\n",
        "disp.ax_.get_images()[0].set_clim(0,1)\n",
        "disp.ax_.set_title('KNN (NOAA+Link Climate KG)',fontdict={'fontsize': 10})\n",
        "disp.im_.colorbar.remove()\n",
        "disp.ax_.set_xlabel('')\n",
        "disp.ax_.set_ylabel('')\n",
        "\n",
        "\n",
        "fig.colorbar(disp.im_, ax=axes)\n",
        "\n",
        "fig"
      ]
    },
    {
      "cell_type": "code",
      "execution_count": null,
      "metadata": {
        "id": "F4w3SS_E-Ihd"
      },
      "outputs": [],
      "source": [
        "fig.savefig('./pictures/results.png',dpi=200)"
      ]
    },
    {
      "cell_type": "markdown",
      "metadata": {
        "id": "Pi9mWEPcVMXm"
      },
      "source": [
        "#####NOAA"
      ]
    },
    {
      "cell_type": "code",
      "execution_count": null,
      "metadata": {
        "colab": {
          "base_uri": "https://localhost:8080/",
          "height": 577
        },
        "id": "eC_YHYUGVN10",
        "outputId": "f9f01843-fa06-4bd1-9196-bbd68ce5f761"
      },
      "outputs": [
        {
          "name": "stdout",
          "output_type": "stream",
          "text": [
            "              precision    recall  f1-score   support\n",
            "\n",
            "          no       0.48      0.62      0.54        50\n",
            "         yes       0.66      0.52      0.58        71\n",
            "\n",
            "    accuracy                           0.56       121\n",
            "   macro avg       0.57      0.57      0.56       121\n",
            "weighted avg       0.58      0.56      0.56       121\n",
            "\n"
          ]
        },
        {
          "data": {
            "image/png": "[encoded data removed]",
            "text/plain": [
              "<Figure size 864x432 with 6 Axes>"
            ]
          },
          "execution_count": 16,
          "metadata": {},
          "output_type": "execute_result"
        }
      ],
      "source": [
        "clf = KNeighborsClassifier(n_neighbors=4)\n",
        "clf.fit(X_train, y_train)\n",
        "y_pred = clf.predict(X_test)\n",
        "\n",
        "print(classification_report(y_test, y_pred, target_names=label_binarizer.classes_))\n",
        "disp = ConfusionMatrixDisplay(confusion_matrix=confusion_matrix(y_test, y_pred, normalize=\"true\"), display_labels=label_binarizer.classes_)\n",
        "disp.plot(ax=axes[0,2],cmap='Purples')\n",
        "disp.ax_.get_images()[0].set_clim(0,1)\n",
        "disp.ax_.set_title('KNN (NOAA)',fontdict={'fontsize': 10})\n",
        "disp.im_.colorbar.remove()\n",
        "disp.ax_.set_xlabel('')\n",
        "disp.ax_.set_ylabel('')\n",
        "\n",
        "# plt.subplots_adjust(wspace=0.40, hspace=0.1)\n",
        "# fig.colorbar(disp.im_, ax=axes)\n",
        "\n",
        "fig"
      ]
    },
    {
      "cell_type": "markdown",
      "metadata": {
        "id": "DPhKvS4wpoCD"
      },
      "source": [
        "###Entity link using kgextension"
      ]
    },
    {
      "cell_type": "markdown",
      "metadata": {
        "id": "RQA5bolqfpRd"
      },
      "source": [
        "Prefix dictionary:"
      ]
    },
    {
      "cell_type": "code",
      "execution_count": null,
      "metadata": {
        "id": "juebW5PMfv-L"
      },
      "outputs": [],
      "source": [
        "prefixes = {'rdf': 'http://www.w3.org/1999/02/22-rdf-syntax-ns#',\n",
        "            'xsd': 'http://www.w3.org/2001/XMLSchema#',\n",
        "            'rdfs': 'http://www.w3.org/2000/01/rdf-schema#',\n",
        "            'qudt': 'http://qudt.org/1.1/schema/qudt#',\n",
        "            'prov': 'http://www.w3.org/ns/prov',\n",
        "            'sosa': 'http://www.w3.org/ns/sosa/',\n",
        "            'geo': 'http://www.w3.org/2003/01/geo/wgs84_pos#',\n",
        "            'ca-property': 'http://jresearch.ucd.ie/climate-kg/ca/property/'\n",
        "            }"
      ]
    },
    {
      "cell_type": "markdown",
      "metadata": {
        "id": "JLFbczvOh77K"
      },
      "source": [
        "---"
      ]
    },
    {
      "cell_type": "code",
      "execution_count": null,
      "metadata": {
        "colab": {
          "base_uri": "https://localhost:8080/",
          "height": 423
        },
        "id": "AlAVVe-KZxps",
        "outputId": "e6af58eb-146d-4614-f13c-455828835078"
      },
      "outputs": [
        {
          "data": {
            "text/html": [
              "<div>\n",
              "<style scoped>\n",
              "    .dataframe tbody tr th:only-of-type {\n",
              "        vertical-align: middle;\n",
              "    }\n",
              "\n",
              "    .dataframe tbody tr th {\n",
              "        vertical-align: top;\n",
              "    }\n",
              "\n",
              "    .dataframe thead th {\n",
              "        text-align: right;\n",
              "    }\n",
              "</style>\n",
              "<table border=\"1\" class=\"dataframe\">\n",
              "  <thead>\n",
              "    <tr style=\"text-align: right;\">\n",
              "      <th></th>\n",
              "      <th>STATION</th>\n",
              "      <th>NAME</th>\n",
              "      <th>DATE</th>\n",
              "      <th>PRCP</th>\n",
              "      <th>SNWD</th>\n",
              "      <th>TAVG</th>\n",
              "      <th>TMAX</th>\n",
              "      <th>TMIN</th>\n",
              "    </tr>\n",
              "  </thead>\n",
              "  <tbody>\n",
              "    <tr>\n",
              "      <th>0</th>\n",
              "      <td>EI000003969</td>\n",
              "      <td>DUBLIN PHOENIX PARK, EI</td>\n",
              "      <td>2019-06-01</td>\n",
              "      <td>1.2</td>\n",
              "      <td>0.0</td>\n",
              "      <td>13.3</td>\n",
              "      <td>20.0</td>\n",
              "      <td>7.5</td>\n",
              "    </tr>\n",
              "    <tr>\n",
              "      <th>1</th>\n",
              "      <td>EI000003969</td>\n",
              "      <td>DUBLIN PHOENIX PARK, EI</td>\n",
              "      <td>2019-06-02</td>\n",
              "      <td>0.0</td>\n",
              "      <td>0.0</td>\n",
              "      <td>14.9</td>\n",
              "      <td>19.3</td>\n",
              "      <td>13.6</td>\n",
              "    </tr>\n",
              "    <tr>\n",
              "      <th>2</th>\n",
              "      <td>EI000003969</td>\n",
              "      <td>DUBLIN PHOENIX PARK, EI</td>\n",
              "      <td>2019-06-03</td>\n",
              "      <td>9.3</td>\n",
              "      <td>0.0</td>\n",
              "      <td>11.5</td>\n",
              "      <td>17.2</td>\n",
              "      <td>8.6</td>\n",
              "    </tr>\n",
              "    <tr>\n",
              "      <th>3</th>\n",
              "      <td>EI000003969</td>\n",
              "      <td>DUBLIN PHOENIX PARK, EI</td>\n",
              "      <td>2019-06-04</td>\n",
              "      <td>19.7</td>\n",
              "      <td>0.0</td>\n",
              "      <td>10.4</td>\n",
              "      <td>12.4</td>\n",
              "      <td>7.9</td>\n",
              "    </tr>\n",
              "    <tr>\n",
              "      <th>4</th>\n",
              "      <td>EI000003969</td>\n",
              "      <td>DUBLIN PHOENIX PARK, EI</td>\n",
              "      <td>2019-06-05</td>\n",
              "      <td>0.3</td>\n",
              "      <td>0.0</td>\n",
              "      <td>9.9</td>\n",
              "      <td>12.6</td>\n",
              "      <td>8.8</td>\n",
              "    </tr>\n",
              "    <tr>\n",
              "      <th>...</th>\n",
              "      <td>...</td>\n",
              "      <td>...</td>\n",
              "      <td>...</td>\n",
              "      <td>...</td>\n",
              "      <td>...</td>\n",
              "      <td>...</td>\n",
              "      <td>...</td>\n",
              "      <td>...</td>\n",
              "    </tr>\n",
              "    <tr>\n",
              "      <th>362</th>\n",
              "      <td>EI000003969</td>\n",
              "      <td>DUBLIN PHOENIX PARK, EI</td>\n",
              "      <td>2020-05-28</td>\n",
              "      <td>0.0</td>\n",
              "      <td>0.0</td>\n",
              "      <td>15.3</td>\n",
              "      <td>23.3</td>\n",
              "      <td>10.1</td>\n",
              "    </tr>\n",
              "    <tr>\n",
              "      <th>363</th>\n",
              "      <td>EI000003969</td>\n",
              "      <td>DUBLIN PHOENIX PARK, EI</td>\n",
              "      <td>2020-05-29</td>\n",
              "      <td>0.0</td>\n",
              "      <td>0.0</td>\n",
              "      <td>15.8</td>\n",
              "      <td>23.5</td>\n",
              "      <td>11.3</td>\n",
              "    </tr>\n",
              "    <tr>\n",
              "      <th>364</th>\n",
              "      <td>EI000003969</td>\n",
              "      <td>DUBLIN PHOENIX PARK, EI</td>\n",
              "      <td>2020-05-30</td>\n",
              "      <td>0.0</td>\n",
              "      <td>0.0</td>\n",
              "      <td>14.9</td>\n",
              "      <td>22.0</td>\n",
              "      <td>9.2</td>\n",
              "    </tr>\n",
              "    <tr>\n",
              "      <th>365</th>\n",
              "      <td>EI000003969</td>\n",
              "      <td>DUBLIN PHOENIX PARK, EI</td>\n",
              "      <td>2020-05-31</td>\n",
              "      <td>0.0</td>\n",
              "      <td>0.0</td>\n",
              "      <td>14.6</td>\n",
              "      <td>21.5</td>\n",
              "      <td>9.0</td>\n",
              "    </tr>\n",
              "    <tr>\n",
              "      <th>366</th>\n",
              "      <td>EI000003969</td>\n",
              "      <td>DUBLIN PHOENIX PARK, EI</td>\n",
              "      <td>2020-06-01</td>\n",
              "      <td>0.0</td>\n",
              "      <td>0.0</td>\n",
              "      <td>14.4</td>\n",
              "      <td>21.1</td>\n",
              "      <td>9.3</td>\n",
              "    </tr>\n",
              "  </tbody>\n",
              "</table>\n",
              "<p>367 rows × 8 columns</p>\n",
              "</div>"
            ],
            "text/plain": [
              "         STATION                     NAME        DATE  ...  TAVG  TMAX  TMIN\n",
              "0    EI000003969  DUBLIN PHOENIX PARK, EI  2019-06-01  ...  13.3  20.0   7.5\n",
              "1    EI000003969  DUBLIN PHOENIX PARK, EI  2019-06-02  ...  14.9  19.3  13.6\n",
              "2    EI000003969  DUBLIN PHOENIX PARK, EI  2019-06-03  ...  11.5  17.2   8.6\n",
              "3    EI000003969  DUBLIN PHOENIX PARK, EI  2019-06-04  ...  10.4  12.4   7.9\n",
              "4    EI000003969  DUBLIN PHOENIX PARK, EI  2019-06-05  ...   9.9  12.6   8.8\n",
              "..           ...                      ...         ...  ...   ...   ...   ...\n",
              "362  EI000003969  DUBLIN PHOENIX PARK, EI  2020-05-28  ...  15.3  23.3  10.1\n",
              "363  EI000003969  DUBLIN PHOENIX PARK, EI  2020-05-29  ...  15.8  23.5  11.3\n",
              "364  EI000003969  DUBLIN PHOENIX PARK, EI  2020-05-30  ...  14.9  22.0   9.2\n",
              "365  EI000003969  DUBLIN PHOENIX PARK, EI  2020-05-31  ...  14.6  21.5   9.0\n",
              "366  EI000003969  DUBLIN PHOENIX PARK, EI  2020-06-01  ...  14.4  21.1   9.3\n",
              "\n",
              "[367 rows x 8 columns]"
            ]
          },
          "execution_count": 20,
          "metadata": {},
          "output_type": "execute_result"
        }
      ],
      "source": [
        "df_noaa = pd.read_csv(\"./datasets/noaa.csv\")\n",
        "df_station = df_noaa.iloc[0:1, 0:4][['STATION','NAME']]\n",
        "df_noaa.fillna(0.0)"
      ]
    },
    {
      "cell_type": "code",
      "execution_count": null,
      "metadata": {
        "colab": {
          "base_uri": "https://localhost:8080/",
          "height": 49,
          "referenced_widgets": [
            "56cae094d2524f68bf5ad068f1d7398b",
            "0113647e68494ee98f66221a2b1feb7e",
            "6a97b03dcd2f44a19333a2e669ac63a0",
            "e119058bd0ca4757be330def8fb8d697",
            "e6a34ecdb7034b319f8d7797597cbd1c",
            "bbbefb1ca158420180a600eb250b2406",
            "7651dc03cdbf4defad1d5c47590b3fa3",
            "8ec95df21ccd49269441a6f369d5aee6",
            "638c9e75eb974b04a5724bb0b06d7b2d",
            "f020eec3297b48aeb08ed35851bd42f5",
            "6eba15fecfd44620abc56e5b66a88df5"
          ]
        },
        "id": "w0zakYdK_ZvD",
        "outputId": "1fc135c3-2101-418d-dbe6-c84882cd166b"
      },
      "outputs": [
        {
          "data": {
            "application/vnd.jupyter.widget-view+json": {
              "model_id": "56cae094d2524f68bf5ad068f1d7398b",
              "version_major": 2,
              "version_minor": 0
            },
            "text/plain": [
              "DBpedia Spotlight Linker: Querying DSL:   0%|          | 0/1 [00:00<?, ?it/s]"
            ]
          },
          "metadata": {},
          "output_type": "display_data"
        }
      ],
      "source": [
        "df_spotlight_linked = dbpedia_spotlight_linker(\n",
        "    df_station, column = \"NAME\", new_attribute_name=\"place_at_DBpedia\", max_hits=1,\n",
        "    language=\"en\", selection=\"first\", confidence=0.5, support=5,\n",
        "    min_similarity_score=0.5\n",
        ")\n"
      ]
    },
    {
      "cell_type": "code",
      "execution_count": null,
      "metadata": {
        "colab": {
          "base_uri": "https://localhost:8080/",
          "height": 81
        },
        "id": "7WGqBZhX__K4",
        "outputId": "9cd3c92a-d4c4-4cfa-8e5f-850b0a36b371"
      },
      "outputs": [
        {
          "data": {
            "text/html": [
              "<div>\n",
              "<style scoped>\n",
              "    .dataframe tbody tr th:only-of-type {\n",
              "        vertical-align: middle;\n",
              "    }\n",
              "\n",
              "    .dataframe tbody tr th {\n",
              "        vertical-align: top;\n",
              "    }\n",
              "\n",
              "    .dataframe thead th {\n",
              "        text-align: right;\n",
              "    }\n",
              "</style>\n",
              "<table border=\"1\" class=\"dataframe\">\n",
              "  <thead>\n",
              "    <tr style=\"text-align: right;\">\n",
              "      <th></th>\n",
              "      <th>STATION</th>\n",
              "      <th>NAME</th>\n",
              "      <th>place_at_DBpedia</th>\n",
              "    </tr>\n",
              "  </thead>\n",
              "  <tbody>\n",
              "    <tr>\n",
              "      <th>0</th>\n",
              "      <td>EI000003969</td>\n",
              "      <td>DUBLIN PHOENIX PARK, EI</td>\n",
              "      <td>http://dbpedia.org/resource/Phoenix_Park</td>\n",
              "    </tr>\n",
              "  </tbody>\n",
              "</table>\n",
              "</div>"
            ],
            "text/plain": [
              "       STATION  ...                          place_at_DBpedia\n",
              "0  EI000003969  ...  http://dbpedia.org/resource/Phoenix_Park\n",
              "\n",
              "[1 rows x 3 columns]"
            ]
          },
          "execution_count": 22,
          "metadata": {},
          "output_type": "execute_result"
        }
      ],
      "source": [
        "df_spotlight_linked"
      ]
    },
    {
      "cell_type": "code",
      "execution_count": null,
      "metadata": {
        "colab": {
          "base_uri": "https://localhost:8080/",
          "height": 49,
          "referenced_widgets": [
            "98243dab95bd453f85ba65d3e9ed5941",
            "7f530992113e416ea3194e8702377b0f",
            "285ba35bdc2b4395a1ebab45070651c9",
            "208755878fde45458f2903d45c5f4be6",
            "02c0236f99fe4344a925525cd5a23104",
            "40fac52195bf49209bd6d90966f9c20b",
            "b857524bf9a74ca7a52c5e6df4c68367",
            "b5351311049e4f998a8ec15ae71df863",
            "49900114f92746fd8b4b9279f85d338f",
            "301435d9baf34cf8b41f856d977e1016",
            "38e64ca2a22a40e8b8c82b98403afcd7"
          ]
        },
        "id": "vHoTy5gHA1li",
        "outputId": "b8a34e79-8a1d-4d1b-e30d-68ae207d21e5"
      },
      "outputs": [
        {
          "data": {
            "application/vnd.jupyter.widget-view+json": {
              "model_id": "98243dab95bd453f85ba65d3e9ed5941",
              "version_major": 2,
              "version_minor": 0
            },
            "text/plain": [
              "Row:   0%|          | 0/1 [00:00<?, ?it/s]"
            ]
          },
          "metadata": {},
          "output_type": "display_data"
        }
      ],
      "source": [
        "# df_link_explored = link_explorer(\n",
        "#     df_spotlight_linked, base_link_column='place_at_DBpedia',number_of_hops=1,\n",
        "#     lod_sources=['dbpedia'],\n",
        "#     links_to_follow=['dbo:location']\n",
        "# )\n",
        "query_geo_info = \"select ?in_city ?latitude ?longitude where {*place_at_DBpedia* dbo:location ?in_city; geo:lat ?latitude; geo:long ?longitude .}\"\n",
        "df_custom_sparql = custom_sparql_generator(df_spotlight_linked, \"place_at_DBpedia\", query_geo_info, endpoint=DBpedia, prefix_lookup=True)"
      ]
    },
    {
      "cell_type": "code",
      "execution_count": null,
      "metadata": {
        "colab": {
          "base_uri": "https://localhost:8080/",
          "height": 81
        },
        "id": "FlibQzn24k7m",
        "outputId": "c06bfc8c-c80f-4a40-a17b-be7a2a0f0bdf"
      },
      "outputs": [
        {
          "data": {
            "text/html": [
              "<div>\n",
              "<style scoped>\n",
              "    .dataframe tbody tr th:only-of-type {\n",
              "        vertical-align: middle;\n",
              "    }\n",
              "\n",
              "    .dataframe tbody tr th {\n",
              "        vertical-align: top;\n",
              "    }\n",
              "\n",
              "    .dataframe thead th {\n",
              "        text-align: right;\n",
              "    }\n",
              "</style>\n",
              "<table border=\"1\" class=\"dataframe\">\n",
              "  <thead>\n",
              "    <tr style=\"text-align: right;\">\n",
              "      <th></th>\n",
              "      <th>STATION</th>\n",
              "      <th>NAME</th>\n",
              "      <th>place_at_DBpedia</th>\n",
              "      <th>in_city</th>\n",
              "      <th>latitude</th>\n",
              "      <th>longitude</th>\n",
              "    </tr>\n",
              "  </thead>\n",
              "  <tbody>\n",
              "    <tr>\n",
              "      <th>0</th>\n",
              "      <td>EI000003969</td>\n",
              "      <td>DUBLIN PHOENIX PARK, EI</td>\n",
              "      <td>http://dbpedia.org/resource/Phoenix_Park</td>\n",
              "      <td>http://dbpedia.org/resource/Dublin</td>\n",
              "      <td>53.36</td>\n",
              "      <td>-6.33</td>\n",
              "    </tr>\n",
              "  </tbody>\n",
              "</table>\n",
              "</div>"
            ],
            "text/plain": [
              "       STATION                     NAME  ... latitude longitude\n",
              "0  EI000003969  DUBLIN PHOENIX PARK, EI  ...    53.36     -6.33\n",
              "\n",
              "[1 rows x 6 columns]"
            ]
          },
          "execution_count": 32,
          "metadata": {},
          "output_type": "execute_result"
        }
      ],
      "source": [
        "df_custom_sparql\n",
        "# df_custom_sparql.reset_index(drop=True).to_latex()"
      ]
    },
    {
      "cell_type": "code",
      "execution_count": null,
      "metadata": {
        "id": "GTHB2ErT4sxB"
      },
      "outputs": [],
      "source": [
        "link_climate = RemoteEndpoint(url = \"http://jresearch.ucd.ie/kg/air-pollutants\", timeout=120, requests_per_min=100*60, retries=10, page_size=10000)"
      ]
    },
    {
      "cell_type": "code",
      "execution_count": null,
      "metadata": {
        "id": "vZX7vLtdBgqX"
      },
      "outputs": [],
      "source": [
        "query_sensor = \"prefix geo: <http://www.w3.org/2003/01/geo/wgs84_pos#> select ?sensor ?in_city ?lat ?lon where {?sensor <http://jresearch.ucd.ie/climate-kg/ca/property/isLocatedIn>\"+\"<\"+df_custom_sparql['in_city'].astype(str).iloc[0]+\">; geo:lat ?lat; geo:long ?lon; <http://jresearch.ucd.ie/climate-kg/ca/property/isLocatedIn> ?in_city }\"\n",
        "df_entities = endpoint_wrapper(endpoint=link_climate, query=query_sensor)\n",
        "# df_custom_sparql = custom_sparql_generator(df_link_explored, \"http://dbpedia.org\", query, endpoint=air_kg, q)"
      ]
    },
    {
      "cell_type": "code",
      "execution_count": null,
      "metadata": {
        "colab": {
          "base_uri": "https://localhost:8080/",
          "height": 89
        },
        "id": "p-nr6gcPKd4X",
        "outputId": "db0bff72-592c-4751-cf3b-43257874f5f5"
      },
      "outputs": [
        {
          "data": {
            "application/vnd.google.colaboratory.intrinsic+json": {
              "type": "string"
            },
            "text/plain": [
              "'\\\\begin{tabular}{lllll}\\n\\\\toprule\\n{} &                                                         sensor &                             in\\\\_city &        lat &        lon \\\\\\\\\\n\\\\midrule\\n0 &   http://jresearch.ucd.ie/climate-kg/purpleair/sensor?id=26695 &  http://dbpedia.org/resource/Dublin &  53.360861 &  -6.273795 \\\\\\\\\\n1 &  http://jresearch.ucd.ie/climate-kg/purpleair/sensor?id=105508 &  http://dbpedia.org/resource/Dublin &   53.33499 &  -6.216279 \\\\\\\\\\n2 &   http://jresearch.ucd.ie/climate-kg/purpleair/sensor?id=59111 &  http://dbpedia.org/resource/Dublin &  53.301456 &  -6.258461 \\\\\\\\\\n3 &   http://jresearch.ucd.ie/climate-kg/purpleair/sensor?id=91889 &  http://dbpedia.org/resource/Dublin &  53.381096 &   -6.06105 \\\\\\\\\\n\\\\bottomrule\\n\\\\end{tabular}\\n'"
            ]
          },
          "execution_count": 31,
          "metadata": {},
          "output_type": "execute_result"
        }
      ],
      "source": [
        "pd.set_option('display.max_colwidth',100)\n",
        "df_entities.to_latex()"
      ]
    }
  ],
  "metadata": {
    "colab": {
      "collapsed_sections": [],
      "name": "kg-rainfall-detection.ipynb",
      "toc_visible": true,
      "provenance": [],
      "authorship_tag": "ABX9TyMxLXSODBWGombn8pT9lh3F",
      "include_colab_link": true
    },
    "kernelspec": {
      "display_name": "Python 3",
      "name": "python3"
    },
    "language_info": {
      "name": "python"
    },
    "widgets": {
      "application/vnd.jupyter.widget-state+json": {
        "0113647e68494ee98f66221a2b1feb7e": {
          "model_module": "@jupyter-widgets/controls",
          "model_module_version": "1.5.0",
          "model_name": "HTMLModel",
          "state": {
            "_dom_classes": [],
            "_model_module": "@jupyter-widgets/controls",
            "_model_module_version": "1.5.0",
            "_model_name": "HTMLModel",
            "_view_count": null,
            "_view_module": "@jupyter-widgets/controls",
            "_view_module_version": "1.5.0",
            "_view_name": "HTMLView",
            "description": "",
            "description_tooltip": null,
            "layout": "IPY_MODEL_bbbefb1ca158420180a600eb250b2406",
            "placeholder": "​",
            "style": "IPY_MODEL_7651dc03cdbf4defad1d5c47590b3fa3",
            "value": "DBpedia Spotlight Linker: Querying DSL: 100%"
          }
        },
        "02c0236f99fe4344a925525cd5a23104": {
          "model_module": "@jupyter-widgets/base",
          "model_module_version": "1.2.0",
          "model_name": "LayoutModel",
          "state": {
            "_model_module": "@jupyter-widgets/base",
            "_model_module_version": "1.2.0",
            "_model_name": "LayoutModel",
            "_view_count": null,
            "_view_module": "@jupyter-widgets/base",
            "_view_module_version": "1.2.0",
            "_view_name": "LayoutView",
            "align_content": null,
            "align_items": null,
            "align_self": null,
            "border": null,
            "bottom": null,
            "display": null,
            "flex": null,
            "flex_flow": null,
            "grid_area": null,
            "grid_auto_columns": null,
            "grid_auto_flow": null,
            "grid_auto_rows": null,
            "grid_column": null,
            "grid_gap": null,
            "grid_row": null,
            "grid_template_areas": null,
            "grid_template_columns": null,
            "grid_template_rows": null,
            "height": null,
            "justify_content": null,
            "justify_items": null,
            "left": null,
            "margin": null,
            "max_height": null,
            "max_width": null,
            "min_height": null,
            "min_width": null,
            "object_fit": null,
            "object_position": null,
            "order": null,
            "overflow": null,
            "overflow_x": null,
            "overflow_y": null,
            "padding": null,
            "right": null,
            "top": null,
            "visibility": null,
            "width": null
          }
        },
        "208755878fde45458f2903d45c5f4be6": {
          "model_module": "@jupyter-widgets/controls",
          "model_module_version": "1.5.0",
          "model_name": "HTMLModel",
          "state": {
            "_dom_classes": [],
            "_model_module": "@jupyter-widgets/controls",
            "_model_module_version": "1.5.0",
            "_model_name": "HTMLModel",
            "_view_count": null,
            "_view_module": "@jupyter-widgets/controls",
            "_view_module_version": "1.5.0",
            "_view_name": "HTMLView",
            "description": "",
            "description_tooltip": null,
            "layout": "IPY_MODEL_301435d9baf34cf8b41f856d977e1016",
            "placeholder": "​",
            "style": "IPY_MODEL_38e64ca2a22a40e8b8c82b98403afcd7",
            "value": " 1/1 [00:01&lt;00:00,  1.41s/it]"
          }
        },
        "285ba35bdc2b4395a1ebab45070651c9": {
          "model_module": "@jupyter-widgets/controls",
          "model_module_version": "1.5.0",
          "model_name": "FloatProgressModel",
          "state": {
            "_dom_classes": [],
            "_model_module": "@jupyter-widgets/controls",
            "_model_module_version": "1.5.0",
            "_model_name": "FloatProgressModel",
            "_view_count": null,
            "_view_module": "@jupyter-widgets/controls",
            "_view_module_version": "1.5.0",
            "_view_name": "ProgressView",
            "bar_style": "success",
            "description": "",
            "description_tooltip": null,
            "layout": "IPY_MODEL_b5351311049e4f998a8ec15ae71df863",
            "max": 1,
            "min": 0,
            "orientation": "horizontal",
            "style": "IPY_MODEL_49900114f92746fd8b4b9279f85d338f",
            "value": 1
          }
        },
        "301435d9baf34cf8b41f856d977e1016": {
          "model_module": "@jupyter-widgets/base",
          "model_module_version": "1.2.0",
          "model_name": "LayoutModel",
          "state": {
            "_model_module": "@jupyter-widgets/base",
            "_model_module_version": "1.2.0",
            "_model_name": "LayoutModel",
            "_view_count": null,
            "_view_module": "@jupyter-widgets/base",
            "_view_module_version": "1.2.0",
            "_view_name": "LayoutView",
            "align_content": null,
            "align_items": null,
            "align_self": null,
            "border": null,
            "bottom": null,
            "display": null,
            "flex": null,
            "flex_flow": null,
            "grid_area": null,
            "grid_auto_columns": null,
            "grid_auto_flow": null,
            "grid_auto_rows": null,
            "grid_column": null,
            "grid_gap": null,
            "grid_row": null,
            "grid_template_areas": null,
            "grid_template_columns": null,
            "grid_template_rows": null,
            "height": null,
            "justify_content": null,
            "justify_items": null,
            "left": null,
            "margin": null,
            "max_height": null,
            "max_width": null,
            "min_height": null,
            "min_width": null,
            "object_fit": null,
            "object_position": null,
            "order": null,
            "overflow": null,
            "overflow_x": null,
            "overflow_y": null,
            "padding": null,
            "right": null,
            "top": null,
            "visibility": null,
            "width": null
          }
        },
        "38e64ca2a22a40e8b8c82b98403afcd7": {
          "model_module": "@jupyter-widgets/controls",
          "model_module_version": "1.5.0",
          "model_name": "DescriptionStyleModel",
          "state": {
            "_model_module": "@jupyter-widgets/controls",
            "_model_module_version": "1.5.0",
            "_model_name": "DescriptionStyleModel",
            "_view_count": null,
            "_view_module": "@jupyter-widgets/base",
            "_view_module_version": "1.2.0",
            "_view_name": "StyleView",
            "description_width": ""
          }
        },
        "40fac52195bf49209bd6d90966f9c20b": {
          "model_module": "@jupyter-widgets/base",
          "model_module_version": "1.2.0",
          "model_name": "LayoutModel",
          "state": {
            "_model_module": "@jupyter-widgets/base",
            "_model_module_version": "1.2.0",
            "_model_name": "LayoutModel",
            "_view_count": null,
            "_view_module": "@jupyter-widgets/base",
            "_view_module_version": "1.2.0",
            "_view_name": "LayoutView",
            "align_content": null,
            "align_items": null,
            "align_self": null,
            "border": null,
            "bottom": null,
            "display": null,
            "flex": null,
            "flex_flow": null,
            "grid_area": null,
            "grid_auto_columns": null,
            "grid_auto_flow": null,
            "grid_auto_rows": null,
            "grid_column": null,
            "grid_gap": null,
            "grid_row": null,
            "grid_template_areas": null,
            "grid_template_columns": null,
            "grid_template_rows": null,
            "height": null,
            "justify_content": null,
            "justify_items": null,
            "left": null,
            "margin": null,
            "max_height": null,
            "max_width": null,
            "min_height": null,
            "min_width": null,
            "object_fit": null,
            "object_position": null,
            "order": null,
            "overflow": null,
            "overflow_x": null,
            "overflow_y": null,
            "padding": null,
            "right": null,
            "top": null,
            "visibility": null,
            "width": null
          }
        },
        "49900114f92746fd8b4b9279f85d338f": {
          "model_module": "@jupyter-widgets/controls",
          "model_module_version": "1.5.0",
          "model_name": "ProgressStyleModel",
          "state": {
            "_model_module": "@jupyter-widgets/controls",
            "_model_module_version": "1.5.0",
            "_model_name": "ProgressStyleModel",
            "_view_count": null,
            "_view_module": "@jupyter-widgets/base",
            "_view_module_version": "1.2.0",
            "_view_name": "StyleView",
            "bar_color": null,
            "description_width": ""
          }
        },
        "56cae094d2524f68bf5ad068f1d7398b": {
          "model_module": "@jupyter-widgets/controls",
          "model_module_version": "1.5.0",
          "model_name": "HBoxModel",
          "state": {
            "_dom_classes": [],
            "_model_module": "@jupyter-widgets/controls",
            "_model_module_version": "1.5.0",
            "_model_name": "HBoxModel",
            "_view_count": null,
            "_view_module": "@jupyter-widgets/controls",
            "_view_module_version": "1.5.0",
            "_view_name": "HBoxView",
            "box_style": "",
            "children": [
              "IPY_MODEL_0113647e68494ee98f66221a2b1feb7e",
              "IPY_MODEL_6a97b03dcd2f44a19333a2e669ac63a0",
              "IPY_MODEL_e119058bd0ca4757be330def8fb8d697"
            ],
            "layout": "IPY_MODEL_e6a34ecdb7034b319f8d7797597cbd1c"
          }
        },
        "638c9e75eb974b04a5724bb0b06d7b2d": {
          "model_module": "@jupyter-widgets/controls",
          "model_module_version": "1.5.0",
          "model_name": "ProgressStyleModel",
          "state": {
            "_model_module": "@jupyter-widgets/controls",
            "_model_module_version": "1.5.0",
            "_model_name": "ProgressStyleModel",
            "_view_count": null,
            "_view_module": "@jupyter-widgets/base",
            "_view_module_version": "1.2.0",
            "_view_name": "StyleView",
            "bar_color": null,
            "description_width": ""
          }
        },
        "6a97b03dcd2f44a19333a2e669ac63a0": {
          "model_module": "@jupyter-widgets/controls",
          "model_module_version": "1.5.0",
          "model_name": "FloatProgressModel",
          "state": {
            "_dom_classes": [],
            "_model_module": "@jupyter-widgets/controls",
            "_model_module_version": "1.5.0",
            "_model_name": "FloatProgressModel",
            "_view_count": null,
            "_view_module": "@jupyter-widgets/controls",
            "_view_module_version": "1.5.0",
            "_view_name": "ProgressView",
            "bar_style": "success",
            "description": "",
            "description_tooltip": null,
            "layout": "IPY_MODEL_8ec95df21ccd49269441a6f369d5aee6",
            "max": 1,
            "min": 0,
            "orientation": "horizontal",
            "style": "IPY_MODEL_638c9e75eb974b04a5724bb0b06d7b2d",
            "value": 1
          }
        },
        "6eba15fecfd44620abc56e5b66a88df5": {
          "model_module": "@jupyter-widgets/controls",
          "model_module_version": "1.5.0",
          "model_name": "DescriptionStyleModel",
          "state": {
            "_model_module": "@jupyter-widgets/controls",
            "_model_module_version": "1.5.0",
            "_model_name": "DescriptionStyleModel",
            "_view_count": null,
            "_view_module": "@jupyter-widgets/base",
            "_view_module_version": "1.2.0",
            "_view_name": "StyleView",
            "description_width": ""
          }
        },
        "7651dc03cdbf4defad1d5c47590b3fa3": {
          "model_module": "@jupyter-widgets/controls",
          "model_module_version": "1.5.0",
          "model_name": "DescriptionStyleModel",
          "state": {
            "_model_module": "@jupyter-widgets/controls",
            "_model_module_version": "1.5.0",
            "_model_name": "DescriptionStyleModel",
            "_view_count": null,
            "_view_module": "@jupyter-widgets/base",
            "_view_module_version": "1.2.0",
            "_view_name": "StyleView",
            "description_width": ""
          }
        },
        "7f530992113e416ea3194e8702377b0f": {
          "model_module": "@jupyter-widgets/controls",
          "model_module_version": "1.5.0",
          "model_name": "HTMLModel",
          "state": {
            "_dom_classes": [],
            "_model_module": "@jupyter-widgets/controls",
            "_model_module_version": "1.5.0",
            "_model_name": "HTMLModel",
            "_view_count": null,
            "_view_module": "@jupyter-widgets/controls",
            "_view_module_version": "1.5.0",
            "_view_name": "HTMLView",
            "description": "",
            "description_tooltip": null,
            "layout": "IPY_MODEL_40fac52195bf49209bd6d90966f9c20b",
            "placeholder": "​",
            "style": "IPY_MODEL_b857524bf9a74ca7a52c5e6df4c68367",
            "value": "Row: 100%"
          }
        },
        "8ec95df21ccd49269441a6f369d5aee6": {
          "model_module": "@jupyter-widgets/base",
          "model_module_version": "1.2.0",
          "model_name": "LayoutModel",
          "state": {
            "_model_module": "@jupyter-widgets/base",
            "_model_module_version": "1.2.0",
            "_model_name": "LayoutModel",
            "_view_count": null,
            "_view_module": "@jupyter-widgets/base",
            "_view_module_version": "1.2.0",
            "_view_name": "LayoutView",
            "align_content": null,
            "align_items": null,
            "align_self": null,
            "border": null,
            "bottom": null,
            "display": null,
            "flex": null,
            "flex_flow": null,
            "grid_area": null,
            "grid_auto_columns": null,
            "grid_auto_flow": null,
            "grid_auto_rows": null,
            "grid_column": null,
            "grid_gap": null,
            "grid_row": null,
            "grid_template_areas": null,
            "grid_template_columns": null,
            "grid_template_rows": null,
            "height": null,
            "justify_content": null,
            "justify_items": null,
            "left": null,
            "margin": null,
            "max_height": null,
            "max_width": null,
            "min_height": null,
            "min_width": null,
            "object_fit": null,
            "object_position": null,
            "order": null,
            "overflow": null,
            "overflow_x": null,
            "overflow_y": null,
            "padding": null,
            "right": null,
            "top": null,
            "visibility": null,
            "width": null
          }
        },
        "98243dab95bd453f85ba65d3e9ed5941": {
          "model_module": "@jupyter-widgets/controls",
          "model_module_version": "1.5.0",
          "model_name": "HBoxModel",
          "state": {
            "_dom_classes": [],
            "_model_module": "@jupyter-widgets/controls",
            "_model_module_version": "1.5.0",
            "_model_name": "HBoxModel",
            "_view_count": null,
            "_view_module": "@jupyter-widgets/controls",
            "_view_module_version": "1.5.0",
            "_view_name": "HBoxView",
            "box_style": "",
            "children": [
              "IPY_MODEL_7f530992113e416ea3194e8702377b0f",
              "IPY_MODEL_285ba35bdc2b4395a1ebab45070651c9",
              "IPY_MODEL_208755878fde45458f2903d45c5f4be6"
            ],
            "layout": "IPY_MODEL_02c0236f99fe4344a925525cd5a23104"
          }
        },
        "b5351311049e4f998a8ec15ae71df863": {
          "model_module": "@jupyter-widgets/base",
          "model_module_version": "1.2.0",
          "model_name": "LayoutModel",
          "state": {
            "_model_module": "@jupyter-widgets/base",
            "_model_module_version": "1.2.0",
            "_model_name": "LayoutModel",
            "_view_count": null,
            "_view_module": "@jupyter-widgets/base",
            "_view_module_version": "1.2.0",
            "_view_name": "LayoutView",
            "align_content": null,
            "align_items": null,
            "align_self": null,
            "border": null,
            "bottom": null,
            "display": null,
            "flex": null,
            "flex_flow": null,
            "grid_area": null,
            "grid_auto_columns": null,
            "grid_auto_flow": null,
            "grid_auto_rows": null,
            "grid_column": null,
            "grid_gap": null,
            "grid_row": null,
            "grid_template_areas": null,
            "grid_template_columns": null,
            "grid_template_rows": null,
            "height": null,
            "justify_content": null,
            "justify_items": null,
            "left": null,
            "margin": null,
            "max_height": null,
            "max_width": null,
            "min_height": null,
            "min_width": null,
            "object_fit": null,
            "object_position": null,
            "order": null,
            "overflow": null,
            "overflow_x": null,
            "overflow_y": null,
            "padding": null,
            "right": null,
            "top": null,
            "visibility": null,
            "width": null
          }
        },
        "b857524bf9a74ca7a52c5e6df4c68367": {
          "model_module": "@jupyter-widgets/controls",
          "model_module_version": "1.5.0",
          "model_name": "DescriptionStyleModel",
          "state": {
            "_model_module": "@jupyter-widgets/controls",
            "_model_module_version": "1.5.0",
            "_model_name": "DescriptionStyleModel",
            "_view_count": null,
            "_view_module": "@jupyter-widgets/base",
            "_view_module_version": "1.2.0",
            "_view_name": "StyleView",
            "description_width": ""
          }
        },
        "bbbefb1ca158420180a600eb250b2406": {
          "model_module": "@jupyter-widgets/base",
          "model_module_version": "1.2.0",
          "model_name": "LayoutModel",
          "state": {
            "_model_module": "@jupyter-widgets/base",
            "_model_module_version": "1.2.0",
            "_model_name": "LayoutModel",
            "_view_count": null,
            "_view_module": "@jupyter-widgets/base",
            "_view_module_version": "1.2.0",
            "_view_name": "LayoutView",
            "align_content": null,
            "align_items": null,
            "align_self": null,
            "border": null,
            "bottom": null,
            "display": null,
            "flex": null,
            "flex_flow": null,
            "grid_area": null,
            "grid_auto_columns": null,
            "grid_auto_flow": null,
            "grid_auto_rows": null,
            "grid_column": null,
            "grid_gap": null,
            "grid_row": null,
            "grid_template_areas": null,
            "grid_template_columns": null,
            "grid_template_rows": null,
            "height": null,
            "justify_content": null,
            "justify_items": null,
            "left": null,
            "margin": null,
            "max_height": null,
            "max_width": null,
            "min_height": null,
            "min_width": null,
            "object_fit": null,
            "object_position": null,
            "order": null,
            "overflow": null,
            "overflow_x": null,
            "overflow_y": null,
            "padding": null,
            "right": null,
            "top": null,
            "visibility": null,
            "width": null
          }
        },
        "e119058bd0ca4757be330def8fb8d697": {
          "model_module": "@jupyter-widgets/controls",
          "model_module_version": "1.5.0",
          "model_name": "HTMLModel",
          "state": {
            "_dom_classes": [],
            "_model_module": "@jupyter-widgets/controls",
            "_model_module_version": "1.5.0",
            "_model_name": "HTMLModel",
            "_view_count": null,
            "_view_module": "@jupyter-widgets/controls",
            "_view_module_version": "1.5.0",
            "_view_name": "HTMLView",
            "description": "",
            "description_tooltip": null,
            "layout": "IPY_MODEL_f020eec3297b48aeb08ed35851bd42f5",
            "placeholder": "​",
            "style": "IPY_MODEL_6eba15fecfd44620abc56e5b66a88df5",
            "value": " 1/1 [00:01&lt;00:00,  1.88s/it]"
          }
        },
        "e6a34ecdb7034b319f8d7797597cbd1c": {
          "model_module": "@jupyter-widgets/base",
          "model_module_version": "1.2.0",
          "model_name": "LayoutModel",
          "state": {
            "_model_module": "@jupyter-widgets/base",
            "_model_module_version": "1.2.0",
            "_model_name": "LayoutModel",
            "_view_count": null,
            "_view_module": "@jupyter-widgets/base",
            "_view_module_version": "1.2.0",
            "_view_name": "LayoutView",
            "align_content": null,
            "align_items": null,
            "align_self": null,
            "border": null,
            "bottom": null,
            "display": null,
            "flex": null,
            "flex_flow": null,
            "grid_area": null,
            "grid_auto_columns": null,
            "grid_auto_flow": null,
            "grid_auto_rows": null,
            "grid_column": null,
            "grid_gap": null,
            "grid_row": null,
            "grid_template_areas": null,
            "grid_template_columns": null,
            "grid_template_rows": null,
            "height": null,
            "justify_content": null,
            "justify_items": null,
            "left": null,
            "margin": null,
            "max_height": null,
            "max_width": null,
            "min_height": null,
            "min_width": null,
            "object_fit": null,
            "object_position": null,
            "order": null,
            "overflow": null,
            "overflow_x": null,
            "overflow_y": null,
            "padding": null,
            "right": null,
            "top": null,
            "visibility": null,
            "width": null
          }
        },
        "f020eec3297b48aeb08ed35851bd42f5": {
          "model_module": "@jupyter-widgets/base",
          "model_module_version": "1.2.0",
          "model_name": "LayoutModel",
          "state": {
            "_model_module": "@jupyter-widgets/base",
            "_model_module_version": "1.2.0",
            "_model_name": "LayoutModel",
            "_view_count": null,
            "_view_module": "@jupyter-widgets/base",
            "_view_module_version": "1.2.0",
            "_view_name": "LayoutView",
            "align_content": null,
            "align_items": null,
            "align_self": null,
            "border": null,
            "bottom": null,
            "display": null,
            "flex": null,
            "flex_flow": null,
            "grid_area": null,
            "grid_auto_columns": null,
            "grid_auto_flow": null,
            "grid_auto_rows": null,
            "grid_column": null,
            "grid_gap": null,
            "grid_row": null,
            "grid_template_areas": null,
            "grid_template_columns": null,
            "grid_template_rows": null,
            "height": null,
            "justify_content": null,
            "justify_items": null,
            "left": null,
            "margin": null,
            "max_height": null,
            "max_width": null,
            "min_height": null,
            "min_width": null,
            "object_fit": null,
            "object_position": null,
            "order": null,
            "overflow": null,
            "overflow_x": null,
            "overflow_y": null,
            "padding": null,
            "right": null,
            "top": null,
            "visibility": null,
            "width": null
          }
        }
      }
    }
  },
  "nbformat": 4,
  "nbformat_minor": 0
}